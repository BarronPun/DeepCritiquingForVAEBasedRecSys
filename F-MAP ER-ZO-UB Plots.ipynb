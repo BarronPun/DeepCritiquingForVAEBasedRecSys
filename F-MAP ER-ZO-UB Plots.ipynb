{
 "cells": [
  {
   "cell_type": "code",
   "execution_count": 4,
   "metadata": {},
   "outputs": [],
   "source": [
    "from utils.io import load_yaml\n",
    "\n",
    "import os\n",
    "import pandas as pd"
   ]
  },
  {
   "cell_type": "markdown",
   "metadata": {},
   "source": [
    "# Load F-MAP Log"
   ]
  },
  {
   "cell_type": "code",
   "execution_count": 36,
   "metadata": {},
   "outputs": [],
   "source": [
    "def load_cevncf_fmap_log(folder_path):\n",
    "    csv_files = [os.path.join(folder_path, f) for f in os.listdir(folder_path)\n",
    "                 if os.path.isfile(os.path.join(folder_path, f)) and f.endswith('.csv')]\n",
    "    aggregate_result = pd.DataFrame()\n",
    "    for record in csv_files:\n",
    "        df = pd.read_csv(record)\n",
    "        aggregate_result = aggregate_result.append(df.groupby(['model'], as_index=False)\n",
    " .agg({'F-MAP@5':'mean', 'F-MAP@10':'mean','F-MAP@20':'mean'}))\n",
    "    return aggregate_result"
   ]
  },
  {
   "cell_type": "code",
   "execution_count": 37,
   "metadata": {},
   "outputs": [],
   "source": [
    "def load_fmap_log(folder_path):\n",
    "    csv_files = [os.path.join(folder_path, f) for f in os.listdir(folder_path)\n",
    "                 if os.path.isfile(os.path.join(folder_path, f)) and f.endswith('.csv')]\n",
    "    aggregate_result = pd.DataFrame()\n",
    "    for record in csv_files:\n",
    "        df = pd.read_csv(record)\n",
    "        aggregate_result = aggregate_result.append(df.groupby(['model', 'rank', 'beta', 'lambda_l2', 'lambda_keyphrase', 'lambda_latent', 'lambda_rating', 'learning_rate', 'epoch_rating','epoch_explanation', 'corruption', 'optimizer'], as_index=False)\n",
    " .agg({'F-MAP@5':'mean', 'F-MAP@10':'mean','F-MAP@20':'mean'})).sort_values(by=['beta'])\n",
    "    return aggregate_result"
   ]
  },
  {
   "cell_type": "code",
   "execution_count": 44,
   "metadata": {},
   "outputs": [],
   "source": [
    "df_cdsvinyl_ub = load_fmap_log(folder_path='tables/CDsVinyl_fmap_ub/S_E_CDE_VAE_OLD/')\n",
    "df_cdsvinyl_zeroout = load_fmap_log(folder_path='tables/CDsVinyl_fmap_zeroout/S_E_CDE_VAE_OLD/')\n",
    "df_cdsvinyl_re = load_fmap_log(folder_path='tables/CDsVinyl_fmap/S_E_CDE_VAE_OLD/')\n",
    "df_cdsvinyl_lb = load_fmap_log(folder_path='tables/CDsVinyl_fmap_ub/S_E_CDE_VAE_OLD/LB')"
   ]
  },
  {
   "cell_type": "code",
   "execution_count": 46,
   "metadata": {},
   "outputs": [
    {
     "data": {
      "text/html": [
       "<div>\n",
       "<style scoped>\n",
       "    .dataframe tbody tr th:only-of-type {\n",
       "        vertical-align: middle;\n",
       "    }\n",
       "\n",
       "    .dataframe tbody tr th {\n",
       "        vertical-align: top;\n",
       "    }\n",
       "\n",
       "    .dataframe thead th {\n",
       "        text-align: right;\n",
       "    }\n",
       "</style>\n",
       "<table border=\"1\" class=\"dataframe\">\n",
       "  <thead>\n",
       "    <tr style=\"text-align: right;\">\n",
       "      <th></th>\n",
       "      <th>model</th>\n",
       "      <th>rank</th>\n",
       "      <th>beta</th>\n",
       "      <th>lambda_l2</th>\n",
       "      <th>lambda_keyphrase</th>\n",
       "      <th>lambda_latent</th>\n",
       "      <th>lambda_rating</th>\n",
       "      <th>learning_rate</th>\n",
       "      <th>epoch_rating</th>\n",
       "      <th>epoch_explanation</th>\n",
       "      <th>corruption</th>\n",
       "      <th>optimizer</th>\n",
       "      <th>F-MAP@5</th>\n",
       "      <th>F-MAP@10</th>\n",
       "      <th>F-MAP@20</th>\n",
       "    </tr>\n",
       "  </thead>\n",
       "  <tbody>\n",
       "    <tr>\n",
       "      <th>0</th>\n",
       "      <td>S-E-CDE-VAE</td>\n",
       "      <td>200</td>\n",
       "      <td>0.0001</td>\n",
       "      <td>0.0001</td>\n",
       "      <td>1</td>\n",
       "      <td>0.1</td>\n",
       "      <td>1</td>\n",
       "      <td>0.0001</td>\n",
       "      <td>400</td>\n",
       "      <td>300</td>\n",
       "      <td>0.4</td>\n",
       "      <td>Adam</td>\n",
       "      <td>0.062824</td>\n",
       "      <td>0.076760</td>\n",
       "      <td>0.084882</td>\n",
       "    </tr>\n",
       "    <tr>\n",
       "      <th>0</th>\n",
       "      <td>S-E-CDE-VAE</td>\n",
       "      <td>200</td>\n",
       "      <td>0.0001</td>\n",
       "      <td>0.0001</td>\n",
       "      <td>1</td>\n",
       "      <td>0.1</td>\n",
       "      <td>1</td>\n",
       "      <td>0.0001</td>\n",
       "      <td>400</td>\n",
       "      <td>300</td>\n",
       "      <td>0.4</td>\n",
       "      <td>Adam</td>\n",
       "      <td>0.065615</td>\n",
       "      <td>0.072156</td>\n",
       "      <td>0.078971</td>\n",
       "    </tr>\n",
       "  </tbody>\n",
       "</table>\n",
       "</div>"
      ],
      "text/plain": [
       "         model  rank    beta  lambda_l2  lambda_keyphrase  lambda_latent  \\\n",
       "0  S-E-CDE-VAE   200  0.0001     0.0001                 1            0.1   \n",
       "0  S-E-CDE-VAE   200  0.0001     0.0001                 1            0.1   \n",
       "\n",
       "   lambda_rating  learning_rate  epoch_rating  epoch_explanation  corruption  \\\n",
       "0              1         0.0001           400                300         0.4   \n",
       "0              1         0.0001           400                300         0.4   \n",
       "\n",
       "  optimizer   F-MAP@5  F-MAP@10  F-MAP@20  \n",
       "0      Adam  0.062824  0.076760  0.084882  \n",
       "0      Adam  0.065615  0.072156  0.078971  "
      ]
     },
     "execution_count": 46,
     "metadata": {},
     "output_type": "execute_result"
    }
   ],
   "source": [
    "df_cdsvinyl_re"
   ]
  },
  {
   "cell_type": "code",
   "execution_count": 47,
   "metadata": {},
   "outputs": [],
   "source": [
    "#filtered_df_cdsvinyl_zeroout = df_cdsvinyl_zeroout.loc[(df_cdsvinyl_zeroout['F-MAP@5'] != 0) & (df_cdsvinyl_zeroout['F-MAP@10'] != 0) & (df_cdsvinyl_zeroout['F-MAP@20'] != 0)]\n",
    "#filtered_df_cdsvinyl_re = df_cdsvinyl_re.loc[(df_cdsvinyl_re['F-MAP@5'] != 0) & (df_cdsvinyl_re['F-MAP@10'] != 0) & (df_cdsvinyl_re['F-MAP@20'] != 0)]"
   ]
  },
  {
   "cell_type": "code",
   "execution_count": 48,
   "metadata": {},
   "outputs": [
    {
     "data": {
      "text/html": [
       "<div>\n",
       "<style scoped>\n",
       "    .dataframe tbody tr th:only-of-type {\n",
       "        vertical-align: middle;\n",
       "    }\n",
       "\n",
       "    .dataframe tbody tr th {\n",
       "        vertical-align: top;\n",
       "    }\n",
       "\n",
       "    .dataframe thead th {\n",
       "        text-align: right;\n",
       "    }\n",
       "</style>\n",
       "<table border=\"1\" class=\"dataframe\">\n",
       "  <thead>\n",
       "    <tr style=\"text-align: right;\">\n",
       "      <th></th>\n",
       "      <th>model</th>\n",
       "      <th>rank</th>\n",
       "      <th>beta</th>\n",
       "      <th>lambda_l2</th>\n",
       "      <th>lambda_keyphrase</th>\n",
       "      <th>lambda_latent</th>\n",
       "      <th>lambda_rating</th>\n",
       "      <th>learning_rate</th>\n",
       "      <th>corruption</th>\n",
       "      <th>optimizer</th>\n",
       "      <th>F-MAP@5</th>\n",
       "      <th>F-MAP@10</th>\n",
       "      <th>F-MAP@20</th>\n",
       "    </tr>\n",
       "  </thead>\n",
       "  <tbody>\n",
       "    <tr>\n",
       "      <th>0</th>\n",
       "      <td>S-E-CDE-VAE</td>\n",
       "      <td>200</td>\n",
       "      <td>0.0001</td>\n",
       "      <td>0.0001</td>\n",
       "      <td>1</td>\n",
       "      <td>0.1</td>\n",
       "      <td>1</td>\n",
       "      <td>0.0001</td>\n",
       "      <td>0.4</td>\n",
       "      <td>Adam</td>\n",
       "      <td>0.095709</td>\n",
       "      <td>0.097314</td>\n",
       "      <td>0.097474</td>\n",
       "    </tr>\n",
       "  </tbody>\n",
       "</table>\n",
       "</div>"
      ],
      "text/plain": [
       "         model  rank    beta  lambda_l2  lambda_keyphrase  lambda_latent  \\\n",
       "0  S-E-CDE-VAE   200  0.0001     0.0001                 1            0.1   \n",
       "\n",
       "   lambda_rating  learning_rate  corruption optimizer   F-MAP@5  F-MAP@10  \\\n",
       "0              1         0.0001         0.4      Adam  0.095709  0.097314   \n",
       "\n",
       "   F-MAP@20  \n",
       "0  0.097474  "
      ]
     },
     "execution_count": 48,
     "metadata": {},
     "output_type": "execute_result"
    }
   ],
   "source": [
    "#filtered_df_cdsvinyl_zeroout.loc[filtered_df_cdsvinyl_zeroout['beta']==0.001].groupby(['model', 'rank', 'beta', 'lambda_l2', 'lambda_keyphrase', 'lambda_latent', 'lambda_rating', 'learning_rate', 'epoch', 'corruption', 'optimizer'], as_index=False).agg({'F-MAP@5':'mean', 'F-MAP@10':'mean','F-MAP@20':'mean'})\n",
    "filtered_zeroout = df_cdsvinyl_zeroout.groupby(['model', 'rank', 'beta', 'lambda_l2', 'lambda_keyphrase', 'lambda_latent', 'lambda_rating', 'learning_rate', 'corruption', 'optimizer'], as_index=False).agg({'F-MAP@5':'mean', 'F-MAP@10':'mean','F-MAP@20':'mean'})\n",
    "filtered_zeroout"
   ]
  },
  {
   "cell_type": "code",
   "execution_count": 49,
   "metadata": {},
   "outputs": [
    {
     "data": {
      "text/html": [
       "<div>\n",
       "<style scoped>\n",
       "    .dataframe tbody tr th:only-of-type {\n",
       "        vertical-align: middle;\n",
       "    }\n",
       "\n",
       "    .dataframe tbody tr th {\n",
       "        vertical-align: top;\n",
       "    }\n",
       "\n",
       "    .dataframe thead th {\n",
       "        text-align: right;\n",
       "    }\n",
       "</style>\n",
       "<table border=\"1\" class=\"dataframe\">\n",
       "  <thead>\n",
       "    <tr style=\"text-align: right;\">\n",
       "      <th></th>\n",
       "      <th>model</th>\n",
       "      <th>rank</th>\n",
       "      <th>beta</th>\n",
       "      <th>lambda_l2</th>\n",
       "      <th>lambda_keyphrase</th>\n",
       "      <th>lambda_latent</th>\n",
       "      <th>lambda_rating</th>\n",
       "      <th>learning_rate</th>\n",
       "      <th>corruption</th>\n",
       "      <th>optimizer</th>\n",
       "      <th>F-MAP@5</th>\n",
       "      <th>F-MAP@10</th>\n",
       "      <th>F-MAP@20</th>\n",
       "    </tr>\n",
       "  </thead>\n",
       "  <tbody>\n",
       "    <tr>\n",
       "      <th>0</th>\n",
       "      <td>S-E-CDE-VAE</td>\n",
       "      <td>200</td>\n",
       "      <td>0.0001</td>\n",
       "      <td>0.0001</td>\n",
       "      <td>1</td>\n",
       "      <td>0.1</td>\n",
       "      <td>1</td>\n",
       "      <td>0.0001</td>\n",
       "      <td>0.4</td>\n",
       "      <td>Adam</td>\n",
       "      <td>0.06422</td>\n",
       "      <td>0.074458</td>\n",
       "      <td>0.081927</td>\n",
       "    </tr>\n",
       "  </tbody>\n",
       "</table>\n",
       "</div>"
      ],
      "text/plain": [
       "         model  rank    beta  lambda_l2  lambda_keyphrase  lambda_latent  \\\n",
       "0  S-E-CDE-VAE   200  0.0001     0.0001                 1            0.1   \n",
       "\n",
       "   lambda_rating  learning_rate  corruption optimizer  F-MAP@5  F-MAP@10  \\\n",
       "0              1         0.0001         0.4      Adam  0.06422  0.074458   \n",
       "\n",
       "   F-MAP@20  \n",
       "0  0.081927  "
      ]
     },
     "execution_count": 49,
     "metadata": {},
     "output_type": "execute_result"
    }
   ],
   "source": [
    "#filtered_df_cdsvinyl_re.loc[filtered_df_cdsvinyl_re['beta']==0.01].groupby(['model', 'rank', 'beta', 'lambda_l2', 'lambda_keyphrase', 'lambda_latent', 'lambda_rating', 'learning_rate', 'epoch', 'corruption', 'optimizer'], as_index=False).agg({'F-MAP@5':'mean', 'F-MAP@10':'mean','F-MAP@20':'mean'})\n",
    "filtered_re = df_cdsvinyl_re.groupby(['model', 'rank', 'beta', 'lambda_l2', 'lambda_keyphrase', 'lambda_latent', 'lambda_rating', 'learning_rate', 'corruption', 'optimizer'], as_index=False).agg({'F-MAP@5':'mean', 'F-MAP@10':'mean','F-MAP@20':'mean'})\n",
    "filtered_re"
   ]
  },
  {
   "cell_type": "code",
   "execution_count": 50,
   "metadata": {},
   "outputs": [
    {
     "data": {
      "text/html": [
       "<div>\n",
       "<style scoped>\n",
       "    .dataframe tbody tr th:only-of-type {\n",
       "        vertical-align: middle;\n",
       "    }\n",
       "\n",
       "    .dataframe tbody tr th {\n",
       "        vertical-align: top;\n",
       "    }\n",
       "\n",
       "    .dataframe thead th {\n",
       "        text-align: right;\n",
       "    }\n",
       "</style>\n",
       "<table border=\"1\" class=\"dataframe\">\n",
       "  <thead>\n",
       "    <tr style=\"text-align: right;\">\n",
       "      <th></th>\n",
       "      <th>model</th>\n",
       "      <th>rank</th>\n",
       "      <th>beta</th>\n",
       "      <th>lambda_l2</th>\n",
       "      <th>lambda_keyphrase</th>\n",
       "      <th>lambda_latent</th>\n",
       "      <th>lambda_rating</th>\n",
       "      <th>learning_rate</th>\n",
       "      <th>corruption</th>\n",
       "      <th>optimizer</th>\n",
       "      <th>F-MAP@5</th>\n",
       "      <th>F-MAP@10</th>\n",
       "      <th>F-MAP@20</th>\n",
       "    </tr>\n",
       "  </thead>\n",
       "  <tbody>\n",
       "    <tr>\n",
       "      <th>0</th>\n",
       "      <td>S-E-CDE-VAE</td>\n",
       "      <td>200</td>\n",
       "      <td>0.0001</td>\n",
       "      <td>0.0001</td>\n",
       "      <td>1</td>\n",
       "      <td>0.1</td>\n",
       "      <td>1</td>\n",
       "      <td>0.0001</td>\n",
       "      <td>0.4</td>\n",
       "      <td>Adam</td>\n",
       "      <td>0.651459</td>\n",
       "      <td>0.647747</td>\n",
       "      <td>0.64249</td>\n",
       "    </tr>\n",
       "  </tbody>\n",
       "</table>\n",
       "</div>"
      ],
      "text/plain": [
       "         model  rank    beta  lambda_l2  lambda_keyphrase  lambda_latent  \\\n",
       "0  S-E-CDE-VAE   200  0.0001     0.0001                 1            0.1   \n",
       "\n",
       "   lambda_rating  learning_rate  corruption optimizer   F-MAP@5  F-MAP@10  \\\n",
       "0              1         0.0001         0.4      Adam  0.651459  0.647747   \n",
       "\n",
       "   F-MAP@20  \n",
       "0   0.64249  "
      ]
     },
     "execution_count": 50,
     "metadata": {},
     "output_type": "execute_result"
    }
   ],
   "source": [
    "filtered_ub = df_cdsvinyl_ub.groupby(['model', 'rank', 'beta', 'lambda_l2', 'lambda_keyphrase', 'lambda_latent', 'lambda_rating', 'learning_rate', 'corruption', 'optimizer'], as_index=False).agg({'F-MAP@5':'mean', 'F-MAP@10':'mean','F-MAP@20':'mean'})\n",
    "filtered_ub"
   ]
  },
  {
   "cell_type": "code",
   "execution_count": 51,
   "metadata": {},
   "outputs": [
    {
     "data": {
      "text/html": [
       "<div>\n",
       "<style scoped>\n",
       "    .dataframe tbody tr th:only-of-type {\n",
       "        vertical-align: middle;\n",
       "    }\n",
       "\n",
       "    .dataframe tbody tr th {\n",
       "        vertical-align: top;\n",
       "    }\n",
       "\n",
       "    .dataframe thead th {\n",
       "        text-align: right;\n",
       "    }\n",
       "</style>\n",
       "<table border=\"1\" class=\"dataframe\">\n",
       "  <thead>\n",
       "    <tr style=\"text-align: right;\">\n",
       "      <th></th>\n",
       "      <th>model</th>\n",
       "      <th>rank</th>\n",
       "      <th>beta</th>\n",
       "      <th>lambda_l2</th>\n",
       "      <th>lambda_keyphrase</th>\n",
       "      <th>lambda_latent</th>\n",
       "      <th>lambda_rating</th>\n",
       "      <th>learning_rate</th>\n",
       "      <th>corruption</th>\n",
       "      <th>optimizer</th>\n",
       "      <th>F-MAP@5</th>\n",
       "      <th>F-MAP@10</th>\n",
       "      <th>F-MAP@20</th>\n",
       "    </tr>\n",
       "  </thead>\n",
       "  <tbody>\n",
       "    <tr>\n",
       "      <th>0</th>\n",
       "      <td>S-E-CDE-VAE</td>\n",
       "      <td>200</td>\n",
       "      <td>0.0001</td>\n",
       "      <td>0.0001</td>\n",
       "      <td>1</td>\n",
       "      <td>0</td>\n",
       "      <td>1</td>\n",
       "      <td>0.0001</td>\n",
       "      <td>0.4</td>\n",
       "      <td>Adam</td>\n",
       "      <td>0.027355</td>\n",
       "      <td>0.031583</td>\n",
       "      <td>0.038223</td>\n",
       "    </tr>\n",
       "  </tbody>\n",
       "</table>\n",
       "</div>"
      ],
      "text/plain": [
       "         model  rank    beta  lambda_l2  lambda_keyphrase  lambda_latent  \\\n",
       "0  S-E-CDE-VAE   200  0.0001     0.0001                 1              0   \n",
       "\n",
       "   lambda_rating  learning_rate  corruption optimizer   F-MAP@5  F-MAP@10  \\\n",
       "0              1         0.0001         0.4      Adam  0.027355  0.031583   \n",
       "\n",
       "   F-MAP@20  \n",
       "0  0.038223  "
      ]
     },
     "execution_count": 51,
     "metadata": {},
     "output_type": "execute_result"
    }
   ],
   "source": [
    "filtered_lb = df_cdsvinyl_lb.groupby(['model', 'rank', 'beta', 'lambda_l2', 'lambda_keyphrase', 'lambda_latent', 'lambda_rating', 'learning_rate', 'corruption', 'optimizer'], as_index=False).agg({'F-MAP@5':'mean', 'F-MAP@10':'mean','F-MAP@20':'mean'})\n",
    "filtered_lb"
   ]
  },
  {
   "cell_type": "code",
   "execution_count": 52,
   "metadata": {},
   "outputs": [],
   "source": [
    "import itertools\n",
    "%matplotlib inline\n",
    "import matplotlib.pyplot as plt\n",
    "import seaborn as sns\n",
    "\n",
    "def pandas_bar_plot(df, x, y, hue, x_name, y_name, folder='figures', name='unknown', save=True):\n",
    "    fig, ax = plt.subplots(figsize=(6, 3))\n",
    "    sns.barplot(ax=ax, x=x, y=y, hue=hue, data=df, errwidth=1, edgecolor='black', facecolor=(1, 1, 1, 0)) #, errwidth=0.5\n",
    "\n",
    "    num_category = len(df[x].unique())\n",
    "    hatch = None\n",
    "    hatches = itertools.cycle(['//', '\\\\\\\\\\\\\\\\', ' ', '**', '////', '----', 'xxxx', '\\\\', '...', 'OOO', \"++++++++\"])\n",
    "    for i, bar in enumerate(ax.patches):\n",
    "        if i % num_category == 0:\n",
    "            hatch = next(hatches)\n",
    "        bar.set_hatch(hatch)\n",
    "\n",
    "    plt.xlabel(x_name)\n",
    "    plt.ylabel(y_name)\n",
    "    #plt.xticks(rotation=15)\n",
    "    plt.legend(loc='upper left', ncol=5)\n",
    "    # if 'Precision' not in y:\n",
    "    ax.legend_.remove()\n",
    "    plt.tight_layout()\n",
    "    if save:\n",
    "        fig_path = load_yaml('config/global.yml', key='path')['figs']\n",
    "        plt.savefig(\"{2}/{0}/{1}_bar.pdf\".format(folder, name, fig_path), format=\"pdf\")\n",
    "        plt.savefig(\"{2}/{0}/{1}_bar.png\".format(folder, name, fig_path), format=\"png\")\n",
    "\n",
    "        fig_leg = plt.figure(figsize=(5, 0.7))\n",
    "        ax_leg = fig_leg.add_subplot(111)\n",
    "        ax_leg.legend(*ax.get_legend_handles_labels(), loc='center', ncol=2)\n",
    "        ax_leg.axis('off')\n",
    "        fig_leg.savefig('figs/bar_legend.pdf', format='pdf')\n",
    "\n",
    "    else:\n",
    "        plt.show()\n",
    "    plt.close()"
   ]
  },
  {
   "cell_type": "code",
   "execution_count": 53,
   "metadata": {},
   "outputs": [],
   "source": [
    "def return_barplot_df(df):\n",
    "    df_fmap5 = df[['model', 'F-MAP@5']]\n",
    "    df_fmap5.loc[:, 'Metric'] = ['F-MAP@5']*len(df_fmap5)\n",
    "    df_fmap5.rename(columns={'F-MAP@5':'F-MAP', 'model':'Model'}, inplace=True)\n",
    "\n",
    "    df_fmap10 = df[['model', 'F-MAP@10']]\n",
    "    df_fmap10.loc[:, 'Metric'] = ['F-MAP@10']*len(df_fmap10)\n",
    "    df_fmap10.rename(columns={'F-MAP@10':'F-MAP', 'model':'Model'}, inplace=True)\n",
    "\n",
    "    df_fmap20 = df[['model', 'F-MAP@20']]\n",
    "    df_fmap20.loc[:, 'Metric'] = ['F-MAP@20']*len(df_fmap20)\n",
    "    df_fmap20.rename(columns={'F-MAP@20':'F-MAP', 'model':'Model'}, inplace=True)\n",
    "\n",
    "    df_fmap5 = df_fmap5.sort_values('Model', ascending=False)\n",
    "    df_fmap10 = df_fmap10.sort_values('Model', ascending=False)\n",
    "    df_fmap20 = df_fmap20.sort_values('Model', ascending=False)\n",
    "\n",
    "    makeup_df = df_fmap5.append(df_fmap10).append(df_fmap20)\n",
    "\n",
    "    makeup_df['Metric'] = makeup_df['Metric'].apply(lambda m: m.replace('F-MAP@', 'N='))\n",
    "    \n",
    "    return makeup_df"
   ]
  },
  {
   "cell_type": "code",
   "execution_count": 54,
   "metadata": {},
   "outputs": [
    {
     "name": "stderr",
     "output_type": "stream",
     "text": [
      "/home/hojin/anaconda3/envs/de/lib/python3.6/site-packages/pandas/core/indexing.py:376: SettingWithCopyWarning: \n",
      "A value is trying to be set on a copy of a slice from a DataFrame.\n",
      "Try using .loc[row_indexer,col_indexer] = value instead\n",
      "\n",
      "See the caveats in the documentation: http://pandas.pydata.org/pandas-docs/stable/user_guide/indexing.html#returning-a-view-versus-a-copy\n",
      "  self.obj[key] = _infer_fill_value(value)\n",
      "/home/hojin/anaconda3/envs/de/lib/python3.6/site-packages/pandas/core/indexing.py:494: SettingWithCopyWarning: \n",
      "A value is trying to be set on a copy of a slice from a DataFrame.\n",
      "Try using .loc[row_indexer,col_indexer] = value instead\n",
      "\n",
      "See the caveats in the documentation: http://pandas.pydata.org/pandas-docs/stable/user_guide/indexing.html#returning-a-view-versus-a-copy\n",
      "  self.obj[item] = s\n",
      "/home/hojin/anaconda3/envs/de/lib/python3.6/site-packages/pandas/core/frame.py:4238: SettingWithCopyWarning: \n",
      "A value is trying to be set on a copy of a slice from a DataFrame\n",
      "\n",
      "See the caveats in the documentation: http://pandas.pydata.org/pandas-docs/stable/user_guide/indexing.html#returning-a-view-versus-a-copy\n",
      "  return super().rename(**kwargs)\n"
     ]
    }
   ],
   "source": [
    "bar_zeroout = return_barplot_df(filtered_zeroout)\n",
    "bar_zeroout['Model'] = 'Zero Out'\n",
    "bar_re = return_barplot_df(filtered_re)\n",
    "bar_re['Model'] = 'Energy Redistribution'\n",
    "bar_ub = return_barplot_df(filtered_ub)\n",
    "bar_ub['Model'] = 'Upper Bound'\n",
    "bar_lb = return_barplot_df(filtered_lb)\n",
    "bar_lb['Model'] = 'Random Noise'\n"
   ]
  },
  {
   "cell_type": "code",
   "execution_count": 55,
   "metadata": {},
   "outputs": [],
   "source": [
    "#filtered_df_cdsvinyl_cevncf = load_cevncf_fmap_log(\"tables/CDsVinyl_fmap/CE_VNCF/\")"
   ]
  },
  {
   "cell_type": "code",
   "execution_count": 56,
   "metadata": {},
   "outputs": [],
   "source": [
    "#bar_df_cdsvinyl_cevncf = return_barplot_df(filtered_df_cdsvinyl_cevncf)\n",
    "#bar_df_cdsvinyl_cevncf['Model'] = 'CE-VNCF-ZO'"
   ]
  },
  {
   "cell_type": "code",
   "execution_count": 59,
   "metadata": {},
   "outputs": [
    {
     "name": "stderr",
     "output_type": "stream",
     "text": [
      "/home/hojin/code/Dual-Encoder/utils/io.py:18: YAMLLoadWarning: calling yaml.load() without Loader=... is deprecated, as the default Loader is unsafe. Please read https://msg.pyyaml.org/load for full details.\n",
      "  return yaml.load(stream)[key]\n"
     ]
    },
    {
     "data": {
      "image/png": "[encoded data removed]",
      "text/plain": [
       "<Figure size 432x216 with 1 Axes>"
      ]
     },
     "metadata": {
      "needs_background": "light"
     },
     "output_type": "display_data"
    }
   ],
   "source": [
    "pandas_bar_plot(df=bar_ub.append(bar_re).append(bar_zeroout).append(bar_lb), x='Metric', y='F-MAP', hue='Model', x_name='Number of Top-N Items', y_name='F-MAP', folder=\"CDsVinyl\", name='F-MAP-original-with-UB', save=True)\n",
    "#pandas_bar_plot(df=bar_re.append(bar_zeroout).append(bar_lb), x='Metric', y='F-MAP', hue='Model', x_name='Number of Top-N Items', y_name='F-MAP', folder=\"CDsVinyl\", name='F-MAP-original', save=True)\n",
    "#plt.legend(bbox_to_anchor=(0., 1.02, 1., .102), loc=4,\n",
    "#       ncol=4, mode=\"expand\", borderaxespad=0.)"
   ]
  },
  {
   "cell_type": "code",
   "execution_count": 70,
   "metadata": {},
   "outputs": [
    {
     "name": "stderr",
     "output_type": "stream",
     "text": [
      "No handles with labels found to put in legend.\n"
     ]
    },
    {
     "data": {
      "text/plain": [
       "<matplotlib.legend.Legend at 0x7f845b3bbcc0>"
      ]
     },
     "execution_count": 70,
     "metadata": {},
     "output_type": "execute_result"
    },
    {
     "data": {
      "image/png": "[encoded data removed]",
      "text/plain": [
       "<Figure size 432x288 with 1 Axes>"
      ]
     },
     "metadata": {
      "needs_background": "light"
     },
     "output_type": "display_data"
    }
   ],
   "source": [
    "plt.legend()"
   ]
  },
  {
   "cell_type": "code",
   "execution_count": 27,
   "metadata": {},
   "outputs": [],
   "source": [
    "df = pd.read_csv(\"tables/beer_fmap/CE_VNCF/beer_Critiquing_FMAP.csv\")"
   ]
  },
  {
   "cell_type": "code",
   "execution_count": 28,
   "metadata": {
    "scrolled": true
   },
   "outputs": [],
   "source": [
    "df_CEVNCF = df"
   ]
  },
  {
   "cell_type": "code",
   "execution_count": 26,
   "metadata": {},
   "outputs": [],
   "source": [
    "#df_CEVNCF = df.loc[df['model'] == 'CE-VNCF'].reset_index(drop=True)"
   ]
  },
  {
   "cell_type": "code",
   "execution_count": 31,
   "metadata": {},
   "outputs": [],
   "source": [
    "for i in range(95):\n",
    "    filename = 'tables/beer_fmap/CE_VNCF/beer_CEVNCF_Critiquing' + str(i+1) + '_FMAP.csv'\n",
    "    df.iloc[500*i:500*(i+1)].reset_index(drop=True).to_csv(filename,index=False)"
   ]
  },
  {
   "cell_type": "code",
   "execution_count": 26,
   "metadata": {
    "scrolled": true
   },
   "outputs": [],
   "source": [
    "df_CEVNCF.iloc[:500,:].to_csv('tables/CDsVinyl_fmap/CE_VNCF/CDsVinyl_CEVNCF_Critiquing6_FMAP.csv',index=False)"
   ]
  },
  {
   "cell_type": "code",
   "execution_count": 27,
   "metadata": {
    "scrolled": true
   },
   "outputs": [],
   "source": [
    "df_CEVNCF.iloc[500:1000,:].reset_index(drop=True).to_csv('tables/CDsVinyl_fmap/CE_VNCF/CDsVinyl_CEVNCF_Critiquing7_FMAP.csv',index=False)"
   ]
  },
  {
   "cell_type": "code",
   "execution_count": 28,
   "metadata": {
    "scrolled": true
   },
   "outputs": [],
   "source": [
    "df_CEVNCF.iloc[1000:1500,:].reset_index(drop=True).to_csv('tables/CDsVinyl_fmap/CE_VNCF/CDsVinyl_CEVNCF_Critiquing8_FMAP.csv',index=False)"
   ]
  },
  {
   "cell_type": "code",
   "execution_count": 29,
   "metadata": {
    "scrolled": true
   },
   "outputs": [],
   "source": [
    "df_CEVNCF.iloc[1500:2000,:].reset_index(drop=True).to_csv('tables/CDsVinyl_fmap/CE_VNCF/CDsVinyl_CEVNCF_Critiquing9_FMAP.csv',index=False)"
   ]
  },
  {
   "cell_type": "code",
   "execution_count": 30,
   "metadata": {
    "scrolled": true
   },
   "outputs": [],
   "source": [
    "df_CEVNCF.iloc[2000:2500,:].reset_index(drop=True).to_csv('tables/CDsVinyl_fmap/CE_VNCF/CDsVinyl_CEVNCF_Critiquing10_FMAP.csv',index=False)"
   ]
  },
  {
   "cell_type": "code",
   "execution_count": 31,
   "metadata": {},
   "outputs": [],
   "source": [
    "df_CEVNCF.iloc[2500:3000,:].reset_index(drop=True).to_csv('tables/CDsVinyl_fmap/CE_VNCF/CDsVinyl_CEVNCF_Critiquing11_FMAP.csv',index=False)"
   ]
  },
  {
   "cell_type": "code",
   "execution_count": 32,
   "metadata": {},
   "outputs": [],
   "source": [
    "df_CEVNCF.iloc[3000:3500,:].reset_index(drop=True).to_csv('tables/CDsVinyl_fmap/CE_VNCF/CDsVinyl_CEVNCF_Critiquing12_FMAP.csv',index=False)"
   ]
  },
  {
   "cell_type": "code",
   "execution_count": 33,
   "metadata": {},
   "outputs": [],
   "source": [
    "df_CEVNCF.iloc[3500:4000,:].reset_index(drop=True).to_csv('tables/CDsVinyl_fmap/CE_VNCF/CDsVinyl_CEVNCF_Critiquing13_FMAP.csv',index=False)"
   ]
  },
  {
   "cell_type": "code",
   "execution_count": 34,
   "metadata": {},
   "outputs": [],
   "source": [
    "df_CEVNCF.iloc[4000:4500,:].reset_index(drop=True).to_csv('tables/CDsVinyl_fmap/CE_VNCF/CDsVinyl_CEVNCF_Critiquing14_FMAP.csv',index=False)"
   ]
  },
  {
   "cell_type": "code",
   "execution_count": 35,
   "metadata": {},
   "outputs": [],
   "source": [
    "df_CEVNCF.iloc[4500:5000,:].reset_index(drop=True).to_csv('tables/CDsVinyl_fmap/CE_VNCF/CDsVinyl_CEVNCF_Critiquing15_FMAP.csv',index=False)"
   ]
  },
  {
   "cell_type": "code",
   "execution_count": null,
   "metadata": {},
   "outputs": [],
   "source": []
  },
  {
   "cell_type": "code",
   "execution_count": 27,
   "metadata": {},
   "outputs": [],
   "source": [
    "df_cdsvinyl_ub = load_fmap_log(folder_path='tables/CDsVinyl_fmap_ub/')"
   ]
  },
  {
   "cell_type": "code",
   "execution_count": 28,
   "metadata": {},
   "outputs": [
    {
     "data": {
      "text/html": [
       "<div>\n",
       "<style scoped>\n",
       "    .dataframe tbody tr th:only-of-type {\n",
       "        vertical-align: middle;\n",
       "    }\n",
       "\n",
       "    .dataframe tbody tr th {\n",
       "        vertical-align: top;\n",
       "    }\n",
       "\n",
       "    .dataframe thead th {\n",
       "        text-align: right;\n",
       "    }\n",
       "</style>\n",
       "<table border=\"1\" class=\"dataframe\">\n",
       "  <thead>\n",
       "    <tr style=\"text-align: right;\">\n",
       "      <th></th>\n",
       "    </tr>\n",
       "  </thead>\n",
       "  <tbody>\n",
       "  </tbody>\n",
       "</table>\n",
       "</div>"
      ],
      "text/plain": [
       "Empty DataFrame\n",
       "Columns: []\n",
       "Index: []"
      ]
     },
     "execution_count": 28,
     "metadata": {},
     "output_type": "execute_result"
    }
   ],
   "source": [
    "df_cdsvinyl_ub"
   ]
  },
  {
   "cell_type": "code",
   "execution_count": null,
   "metadata": {},
   "outputs": [],
   "source": []
  },
  {
   "cell_type": "markdown",
   "metadata": {},
   "source": [
    "# Beer"
   ]
  },
  {
   "cell_type": "code",
   "execution_count": 14,
   "metadata": {},
   "outputs": [],
   "source": [
    "df_beer_zeroout = load_fmap_log(folder_path='tables/beer_fmap_zeroout/')\n",
    "df_beer_re = load_fmap_log(folder_path='tables/beer_fmap/')"
   ]
  },
  {
   "cell_type": "code",
   "execution_count": 15,
   "metadata": {},
   "outputs": [],
   "source": [
    "filtered_df_beer_zeroout = df_beer_zeroout.loc[(df_beer_zeroout['F-MAP@5'] != 0) & (df_beer_zeroout['F-MAP@10'] != 0) & (df_beer_zeroout['F-MAP@20'] != 0)]\n",
    "filtered_df_beer_re = df_beer_re.loc[(df_beer_re['F-MAP@5'] != 0) & (df_beer_re['F-MAP@10'] != 0) & (df_beer_re['F-MAP@20'] != 0)]"
   ]
  },
  {
   "cell_type": "code",
   "execution_count": 16,
   "metadata": {},
   "outputs": [
    {
     "data": {
      "text/html": [
       "<div>\n",
       "<style scoped>\n",
       "    .dataframe tbody tr th:only-of-type {\n",
       "        vertical-align: middle;\n",
       "    }\n",
       "\n",
       "    .dataframe tbody tr th {\n",
       "        vertical-align: top;\n",
       "    }\n",
       "\n",
       "    .dataframe thead th {\n",
       "        text-align: right;\n",
       "    }\n",
       "</style>\n",
       "<table border=\"1\" class=\"dataframe\">\n",
       "  <thead>\n",
       "    <tr style=\"text-align: right;\">\n",
       "      <th></th>\n",
       "      <th>model</th>\n",
       "      <th>rank</th>\n",
       "      <th>beta</th>\n",
       "      <th>lambda_l2</th>\n",
       "      <th>lambda_keyphrase</th>\n",
       "      <th>lambda_latent</th>\n",
       "      <th>lambda_rating</th>\n",
       "      <th>learning_rate</th>\n",
       "      <th>epoch</th>\n",
       "      <th>corruption</th>\n",
       "      <th>optimizer</th>\n",
       "      <th>F-MAP@5</th>\n",
       "      <th>F-MAP@10</th>\n",
       "      <th>F-MAP@20</th>\n",
       "    </tr>\n",
       "  </thead>\n",
       "  <tbody>\n",
       "    <tr>\n",
       "      <th>0</th>\n",
       "      <td>E-CDE-VAE</td>\n",
       "      <td>100</td>\n",
       "      <td>0.0001</td>\n",
       "      <td>0.001</td>\n",
       "      <td>1</td>\n",
       "      <td>1</td>\n",
       "      <td>1</td>\n",
       "      <td>0.0005</td>\n",
       "      <td>600</td>\n",
       "      <td>0.4</td>\n",
       "      <td>Adam</td>\n",
       "      <td>0.03059</td>\n",
       "      <td>0.029189</td>\n",
       "      <td>0.027128</td>\n",
       "    </tr>\n",
       "  </tbody>\n",
       "</table>\n",
       "</div>"
      ],
      "text/plain": [
       "       model  rank    beta  lambda_l2  lambda_keyphrase  lambda_latent  \\\n",
       "0  E-CDE-VAE   100  0.0001      0.001                 1              1   \n",
       "\n",
       "   lambda_rating  learning_rate  epoch  corruption optimizer  F-MAP@5  \\\n",
       "0              1         0.0005    600         0.4      Adam  0.03059   \n",
       "\n",
       "   F-MAP@10  F-MAP@20  \n",
       "0  0.029189  0.027128  "
      ]
     },
     "execution_count": 16,
     "metadata": {},
     "output_type": "execute_result"
    }
   ],
   "source": [
    "filtered_df_beer_zeroout.loc[filtered_df_beer_zeroout['beta']==0.0001].groupby(['model', 'rank', 'beta', 'lambda_l2', 'lambda_keyphrase', 'lambda_latent', 'lambda_rating', 'learning_rate', 'epoch', 'corruption', 'optimizer'], as_index=False).agg({'F-MAP@5':'mean', 'F-MAP@10':'mean','F-MAP@20':'mean'})"
   ]
  },
  {
   "cell_type": "code",
   "execution_count": 17,
   "metadata": {},
   "outputs": [
    {
     "data": {
      "text/html": [
       "<div>\n",
       "<style scoped>\n",
       "    .dataframe tbody tr th:only-of-type {\n",
       "        vertical-align: middle;\n",
       "    }\n",
       "\n",
       "    .dataframe tbody tr th {\n",
       "        vertical-align: top;\n",
       "    }\n",
       "\n",
       "    .dataframe thead th {\n",
       "        text-align: right;\n",
       "    }\n",
       "</style>\n",
       "<table border=\"1\" class=\"dataframe\">\n",
       "  <thead>\n",
       "    <tr style=\"text-align: right;\">\n",
       "      <th></th>\n",
       "      <th>model</th>\n",
       "      <th>rank</th>\n",
       "      <th>beta</th>\n",
       "      <th>lambda_l2</th>\n",
       "      <th>lambda_keyphrase</th>\n",
       "      <th>lambda_latent</th>\n",
       "      <th>lambda_rating</th>\n",
       "      <th>learning_rate</th>\n",
       "      <th>epoch</th>\n",
       "      <th>corruption</th>\n",
       "      <th>optimizer</th>\n",
       "      <th>F-MAP@5</th>\n",
       "      <th>F-MAP@10</th>\n",
       "      <th>F-MAP@20</th>\n",
       "    </tr>\n",
       "  </thead>\n",
       "  <tbody>\n",
       "    <tr>\n",
       "      <th>0</th>\n",
       "      <td>E-CDE-VAE</td>\n",
       "      <td>100</td>\n",
       "      <td>1.000000e-07</td>\n",
       "      <td>0.001</td>\n",
       "      <td>1</td>\n",
       "      <td>1</td>\n",
       "      <td>1</td>\n",
       "      <td>0.0005</td>\n",
       "      <td>600</td>\n",
       "      <td>0.4</td>\n",
       "      <td>Adam</td>\n",
       "      <td>0.032347</td>\n",
       "      <td>0.030943</td>\n",
       "      <td>0.02869</td>\n",
       "    </tr>\n",
       "  </tbody>\n",
       "</table>\n",
       "</div>"
      ],
      "text/plain": [
       "       model  rank          beta  lambda_l2  lambda_keyphrase  lambda_latent  \\\n",
       "0  E-CDE-VAE   100  1.000000e-07      0.001                 1              1   \n",
       "\n",
       "   lambda_rating  learning_rate  epoch  corruption optimizer   F-MAP@5  \\\n",
       "0              1         0.0005    600         0.4      Adam  0.032347   \n",
       "\n",
       "   F-MAP@10  F-MAP@20  \n",
       "0  0.030943   0.02869  "
      ]
     },
     "execution_count": 17,
     "metadata": {},
     "output_type": "execute_result"
    }
   ],
   "source": [
    "filtered_df_beer_re.loc[filtered_df_beer_re['beta']==1e-7].groupby(['model', 'rank', 'beta', 'lambda_l2', 'lambda_keyphrase', 'lambda_latent', 'lambda_rating', 'learning_rate', 'epoch', 'corruption', 'optimizer'], as_index=False).agg({'F-MAP@5':'mean', 'F-MAP@10':'mean','F-MAP@20':'mean'})"
   ]
  },
  {
   "cell_type": "code",
   "execution_count": 22,
   "metadata": {},
   "outputs": [],
   "source": [
    "bar_df_beer_zeroout = return_barplot_df(filtered_df_beer_zeroout.loc[filtered_df_beer_zeroout['beta'] == 0.0001])\n",
    "bar_df_beer_zeroout['Model'] = 'CE-VAE-ZO'\n",
    "bar_df_beer_re = return_barplot_df(filtered_df_beer_re.loc[filtered_df_beer_re['beta'] == 1e-7])\n",
    "bar_df_beer_re['Model'] = 'CE-VAE-ER'"
   ]
  },
  {
   "cell_type": "code",
   "execution_count": 23,
   "metadata": {},
   "outputs": [],
   "source": [
    "filtered_df_beer_cevncf = load_cevncf_fmap_log(\"tables/beer_fmap/CE_VNCF/\")"
   ]
  },
  {
   "cell_type": "code",
   "execution_count": 24,
   "metadata": {},
   "outputs": [],
   "source": [
    "bar_df_beer_cevncf = return_barplot_df(filtered_df_beer_cevncf)\n",
    "bar_df_beer_cevncf['Model'] = 'CE-VNCF-ZO'"
   ]
  },
  {
   "cell_type": "code",
   "execution_count": 26,
   "metadata": {},
   "outputs": [
    {
     "data": {
      "image/png": "[encoded data removed]",
      "text/plain": [
       "<Figure size 432x216 with 1 Axes>"
      ]
     },
     "metadata": {
      "needs_background": "light"
     },
     "output_type": "display_data"
    }
   ],
   "source": [
    "pandas_bar_plot(df=bar_df_beer_re.append(bar_df_beer_zeroout).append(bar_df_beer_cevncf), x='Metric', y='F-MAP', hue='Model', x_name='Number of Top-N Items', y_name='F-MAP', folder=\"beer\", name='beer_FMAP_Redistribution_Zero_Out', save=True)"
   ]
  },
  {
   "cell_type": "code",
   "execution_count": null,
   "metadata": {},
   "outputs": [],
   "source": []
  },
  {
   "cell_type": "code",
   "execution_count": null,
   "metadata": {},
   "outputs": [],
   "source": []
  },
  {
   "cell_type": "code",
   "execution_count": null,
   "metadata": {},
   "outputs": [],
   "source": []
  },
  {
   "cell_type": "code",
   "execution_count": 5,
   "metadata": {},
   "outputs": [
    {
     "ename": "NameError",
     "evalue": "name 'sns' is not defined",
     "output_type": "error",
     "traceback": [
      "\u001b[0;31m---------------------------------------------------------------------------\u001b[0m",
      "\u001b[0;31mNameError\u001b[0m                                 Traceback (most recent call last)",
      "\u001b[0;32m<ipython-input-5-0638a796d8e0>\u001b[0m in \u001b[0;36m<module>\u001b[0;34m\u001b[0m\n\u001b[0;32m----> 1\u001b[0;31m \u001b[0msns\u001b[0m\u001b[0;34m.\u001b[0m\u001b[0mpalplot\u001b[0m\u001b[0;34m(\u001b[0m\u001b[0msns\u001b[0m\u001b[0;34m.\u001b[0m\u001b[0mcolor_palette\u001b[0m\u001b[0;34m(\u001b[0m\u001b[0;34m\"colorblind\"\u001b[0m\u001b[0;34m)\u001b[0m\u001b[0;34m)\u001b[0m\u001b[0;34m\u001b[0m\u001b[0;34m\u001b[0m\u001b[0m\n\u001b[0m",
      "\u001b[0;31mNameError\u001b[0m: name 'sns' is not defined"
     ]
    }
   ],
   "source": [
    "sns.palplot(sns.color_palette(\"colorblind\"))"
   ]
  },
  {
   "cell_type": "code",
   "execution_count": 6,
   "metadata": {},
   "outputs": [
    {
     "ename": "NameError",
     "evalue": "name 'sns' is not defined",
     "output_type": "error",
     "traceback": [
      "\u001b[0;31m---------------------------------------------------------------------------\u001b[0m",
      "\u001b[0;31mNameError\u001b[0m                                 Traceback (most recent call last)",
      "\u001b[0;32m<ipython-input-6-9bf7c4d422dc>\u001b[0m in \u001b[0;36m<module>\u001b[0;34m\u001b[0m\n\u001b[0;32m----> 1\u001b[0;31m \u001b[0mpal\u001b[0m \u001b[0;34m=\u001b[0m \u001b[0msns\u001b[0m\u001b[0;34m.\u001b[0m\u001b[0mcolor_palette\u001b[0m\u001b[0;34m(\u001b[0m\u001b[0;34m\"colorblind\"\u001b[0m\u001b[0;34m)\u001b[0m\u001b[0;34m\u001b[0m\u001b[0;34m\u001b[0m\u001b[0m\n\u001b[0m\u001b[1;32m      2\u001b[0m \u001b[0mpal\u001b[0m\u001b[0;34m.\u001b[0m\u001b[0mas_hex\u001b[0m\u001b[0;34m(\u001b[0m\u001b[0;34m)\u001b[0m\u001b[0;34m\u001b[0m\u001b[0;34m\u001b[0m\u001b[0m\n",
      "\u001b[0;31mNameError\u001b[0m: name 'sns' is not defined"
     ]
    }
   ],
   "source": [
    "pal = sns.color_palette(\"colorblind\")\n",
    "pal.as_hex()"
   ]
  },
  {
   "cell_type": "code",
   "execution_count": null,
   "metadata": {},
   "outputs": [],
   "source": []
  },
  {
   "cell_type": "code",
   "execution_count": 7,
   "metadata": {},
   "outputs": [],
   "source": [
    "def fmap_metrics_plot(df_fmap, df_metrics, x_fmap, y_fmap, x_metrics, y_metrics, x_fmap_name, y_fmap_name, x_metrics_name, y_metrics_name,folder='figs', name='unknown', save=True):\n",
    "    fig, ax = plt.subplots(figsize=(6, 3))\n",
    "    sns.pointplot(ax=ax, x=\"beta\", y=\"F-MAP@20\", data=beta_fmap, linestyles=[\"--\"], color='#0173b2')\n",
    "    ax.set_xlabel('Beta')\n",
    "    ax.set_ylabel('F-MAP@20', color='#0173b2')\n",
    "    ax2 = ax.twinx()\n",
    "    sns.pointplot(ax=ax2, x=\"Beta\", y=\"NDCG\", data=beta_metrics_df, linestyles=[\"--\"], markers=\"x\", color='#de8f05')\n",
    "    ax2.set_ylabel('NDCG', color=\"#de8f05\")\n",
    "    plt.tight_layout()\n",
    "    if save:\n",
    "        fig_path = load_yaml('config/global.yml', key='path')['figs']\n",
    "        plt.savefig(\"{2}/{0}/{1}_line.pdf\".format(folder, name, fig_path), format=\"pdf\")\n",
    "        plt.savefig(\"{2}/{0}/{1}_line.png\".format(folder, name, fig_path), format=\"png\")\n",
    "\n",
    "        fig_leg = plt.figure(figsize=(12, 0.7))\n",
    "        ax_leg = fig_leg.add_subplot(111)\n",
    "        ax_leg.legend(*ax.get_legend_handles_labels(), loc='center', ncol=10)\n",
    "        ax_leg.axis('off')\n",
    "        fig_leg.savefig('figs/line_legend.pdf', format='pdf')\n",
    "\n",
    "    else:\n",
    "        plt.show()\n",
    "    plt.close()"
   ]
  },
  {
   "cell_type": "markdown",
   "metadata": {},
   "source": [
    "# Bar Plot for best beta"
   ]
  },
  {
   "cell_type": "code",
   "execution_count": 8,
   "metadata": {},
   "outputs": [],
   "source": [
    "import itertools\n",
    "%matplotlib inline\n",
    "import matplotlib.pyplot as plt\n",
    "import seaborn as sns\n",
    "\n",
    "def pandas_bar_plot(df, x, y, hue, x_name, y_name, folder='figures', name='unknown', save=True):\n",
    "    fig, ax = plt.subplots(figsize=(6, 3))\n",
    "    sns.barplot(ax=ax, x=x, y=y, hue=hue, data=df, errwidth=1, edgecolor='black', facecolor=(1, 1, 1, 0)) #, errwidth=0.5\n",
    "\n",
    "    num_category = len(df[x].unique())\n",
    "    hatch = None\n",
    "    hatches = itertools.cycle(['//', '**', '////', '----', 'xxxx', '\\\\\\\\\\\\\\\\', ' ', '\\\\', '...', 'OOO', \"++++++++\"])\n",
    "    for i, bar in enumerate(ax.patches):\n",
    "        if i % num_category == 0:\n",
    "            hatch = next(hatches)\n",
    "        bar.set_hatch(hatch)\n",
    "\n",
    "    plt.xlabel(x_name)\n",
    "    plt.ylabel(y_name)\n",
    "    #plt.xticks(rotation=15)\n",
    "    plt.legend(loc='upper left', ncol=5)\n",
    "    # if 'Precision' not in y:\n",
    "    ax.legend_.remove()\n",
    "    plt.tight_layout()\n",
    "    if save:\n",
    "        fig_path = load_yaml('config/global.yml', key='path')['figs']\n",
    "        plt.savefig(\"{2}/{0}/{1}_bar.pdf\".format(folder, name, fig_path), format=\"pdf\")\n",
    "        plt.savefig(\"{2}/{0}/{1}_bar.png\".format(folder, name, fig_path), format=\"png\")\n",
    "\n",
    "        fig_leg = plt.figure(figsize=(12, 0.7))\n",
    "        ax_leg = fig_leg.add_subplot(111)\n",
    "        ax_leg.legend(*ax.get_legend_handles_labels(), loc='center', ncol=10)\n",
    "        ax_leg.axis('off')\n",
    "        fig_leg.savefig('figs/bar_legend.pdf', format='pdf')\n",
    "\n",
    "    else:\n",
    "        plt.show()\n",
    "    plt.close()"
   ]
  },
  {
   "cell_type": "code",
   "execution_count": 9,
   "metadata": {},
   "outputs": [],
   "source": [
    "def return_barplot_df(df):\n",
    "    df_fmap5 = df[['model', 'F-MAP@5']]\n",
    "    df_fmap5.loc[:, 'Metric'] = ['F-MAP@5']*len(df_fmap5)\n",
    "    df_fmap5.rename(columns={'F-MAP@5':'F-MAP', 'model':'Model'}, inplace=True)\n",
    "\n",
    "    df_fmap10 = df[['model', 'F-MAP@10']]\n",
    "    df_fmap10.loc[:, 'Metric'] = ['F-MAP@10']*len(df_fmap10)\n",
    "    df_fmap10.rename(columns={'F-MAP@10':'F-MAP', 'model':'Model'}, inplace=True)\n",
    "\n",
    "    df_fmap20 = df[['model', 'F-MAP@20']]\n",
    "    df_fmap20.loc[:, 'Metric'] = ['F-MAP@20']*len(df_fmap20)\n",
    "    df_fmap20.rename(columns={'F-MAP@20':'F-MAP', 'model':'Model'}, inplace=True)\n",
    "\n",
    "    df_fmap5 = df_fmap5.sort_values('Model', ascending=False)\n",
    "    df_fmap10 = df_fmap10.sort_values('Model', ascending=False)\n",
    "    df_fmap20 = df_fmap20.sort_values('Model', ascending=False)\n",
    "\n",
    "    makeup_df = df_fmap5.append(df_fmap10).append(df_fmap20)\n",
    "\n",
    "    makeup_df['Metric'] = makeup_df['Metric'].apply(lambda m: m.replace('F-MAP@', 'N='))\n",
    "    \n",
    "    return makeup_df"
   ]
  },
  {
   "cell_type": "code",
   "execution_count": 10,
   "metadata": {
    "scrolled": true
   },
   "outputs": [
    {
     "name": "stderr",
     "output_type": "stream",
     "text": [
      "/home/kai/.local/lib/python3.6/site-packages/pandas/core/indexing.py:362: SettingWithCopyWarning: \n",
      "A value is trying to be set on a copy of a slice from a DataFrame.\n",
      "Try using .loc[row_indexer,col_indexer] = value instead\n",
      "\n",
      "See the caveats in the documentation: http://pandas.pydata.org/pandas-docs/stable/indexing.html#indexing-view-versus-copy\n",
      "  self.obj[key] = _infer_fill_value(value)\n",
      "/home/kai/.local/lib/python3.6/site-packages/pandas/core/indexing.py:543: SettingWithCopyWarning: \n",
      "A value is trying to be set on a copy of a slice from a DataFrame.\n",
      "Try using .loc[row_indexer,col_indexer] = value instead\n",
      "\n",
      "See the caveats in the documentation: http://pandas.pydata.org/pandas-docs/stable/indexing.html#indexing-view-versus-copy\n",
      "  self.obj[item] = s\n",
      "/home/kai/.local/lib/python3.6/site-packages/pandas/core/frame.py:4025: SettingWithCopyWarning: \n",
      "A value is trying to be set on a copy of a slice from a DataFrame\n",
      "\n",
      "See the caveats in the documentation: http://pandas.pydata.org/pandas-docs/stable/indexing.html#indexing-view-versus-copy\n",
      "  return super(DataFrame, self).rename(**kwargs)\n"
     ]
    },
    {
     "data": {
      "text/html": [
       "<div>\n",
       "<style scoped>\n",
       "    .dataframe tbody tr th:only-of-type {\n",
       "        vertical-align: middle;\n",
       "    }\n",
       "\n",
       "    .dataframe tbody tr th {\n",
       "        vertical-align: top;\n",
       "    }\n",
       "\n",
       "    .dataframe thead th {\n",
       "        text-align: right;\n",
       "    }\n",
       "</style>\n",
       "<table border=\"1\" class=\"dataframe\">\n",
       "  <thead>\n",
       "    <tr style=\"text-align: right;\">\n",
       "      <th></th>\n",
       "      <th>Model</th>\n",
       "      <th>F-MAP</th>\n",
       "      <th>Metric</th>\n",
       "    </tr>\n",
       "  </thead>\n",
       "  <tbody>\n",
       "    <tr>\n",
       "      <th>4</th>\n",
       "      <td>E-CDE-VAE</td>\n",
       "      <td>0.020987</td>\n",
       "      <td>N=5</td>\n",
       "    </tr>\n",
       "    <tr>\n",
       "      <th>4</th>\n",
       "      <td>E-CDE-VAE</td>\n",
       "      <td>0.024773</td>\n",
       "      <td>N=5</td>\n",
       "    </tr>\n",
       "    <tr>\n",
       "      <th>4</th>\n",
       "      <td>E-CDE-VAE</td>\n",
       "      <td>0.023513</td>\n",
       "      <td>N=5</td>\n",
       "    </tr>\n",
       "    <tr>\n",
       "      <th>4</th>\n",
       "      <td>E-CDE-VAE</td>\n",
       "      <td>0.023867</td>\n",
       "      <td>N=5</td>\n",
       "    </tr>\n",
       "    <tr>\n",
       "      <th>4</th>\n",
       "      <td>E-CDE-VAE</td>\n",
       "      <td>0.024313</td>\n",
       "      <td>N=5</td>\n",
       "    </tr>\n",
       "    <tr>\n",
       "      <th>4</th>\n",
       "      <td>E-CDE-VAE</td>\n",
       "      <td>0.026713</td>\n",
       "      <td>N=5</td>\n",
       "    </tr>\n",
       "    <tr>\n",
       "      <th>4</th>\n",
       "      <td>E-CDE-VAE</td>\n",
       "      <td>0.022360</td>\n",
       "      <td>N=5</td>\n",
       "    </tr>\n",
       "    <tr>\n",
       "      <th>4</th>\n",
       "      <td>E-CDE-VAE</td>\n",
       "      <td>0.021373</td>\n",
       "      <td>N=5</td>\n",
       "    </tr>\n",
       "    <tr>\n",
       "      <th>4</th>\n",
       "      <td>E-CDE-VAE</td>\n",
       "      <td>0.027287</td>\n",
       "      <td>N=5</td>\n",
       "    </tr>\n",
       "    <tr>\n",
       "      <th>4</th>\n",
       "      <td>E-CDE-VAE</td>\n",
       "      <td>0.022900</td>\n",
       "      <td>N=5</td>\n",
       "    </tr>\n",
       "    <tr>\n",
       "      <th>4</th>\n",
       "      <td>E-CDE-VAE</td>\n",
       "      <td>0.024727</td>\n",
       "      <td>N=5</td>\n",
       "    </tr>\n",
       "    <tr>\n",
       "      <th>4</th>\n",
       "      <td>E-CDE-VAE</td>\n",
       "      <td>0.015453</td>\n",
       "      <td>N=5</td>\n",
       "    </tr>\n",
       "    <tr>\n",
       "      <th>4</th>\n",
       "      <td>E-CDE-VAE</td>\n",
       "      <td>0.024807</td>\n",
       "      <td>N=5</td>\n",
       "    </tr>\n",
       "    <tr>\n",
       "      <th>4</th>\n",
       "      <td>E-CDE-VAE</td>\n",
       "      <td>0.025133</td>\n",
       "      <td>N=5</td>\n",
       "    </tr>\n",
       "    <tr>\n",
       "      <th>4</th>\n",
       "      <td>E-CDE-VAE</td>\n",
       "      <td>0.029713</td>\n",
       "      <td>N=5</td>\n",
       "    </tr>\n",
       "    <tr>\n",
       "      <th>4</th>\n",
       "      <td>E-CDE-VAE</td>\n",
       "      <td>0.022706</td>\n",
       "      <td>N=10</td>\n",
       "    </tr>\n",
       "    <tr>\n",
       "      <th>4</th>\n",
       "      <td>E-CDE-VAE</td>\n",
       "      <td>0.024926</td>\n",
       "      <td>N=10</td>\n",
       "    </tr>\n",
       "    <tr>\n",
       "      <th>4</th>\n",
       "      <td>E-CDE-VAE</td>\n",
       "      <td>0.023031</td>\n",
       "      <td>N=10</td>\n",
       "    </tr>\n",
       "    <tr>\n",
       "      <th>4</th>\n",
       "      <td>E-CDE-VAE</td>\n",
       "      <td>0.022835</td>\n",
       "      <td>N=10</td>\n",
       "    </tr>\n",
       "    <tr>\n",
       "      <th>4</th>\n",
       "      <td>E-CDE-VAE</td>\n",
       "      <td>0.023442</td>\n",
       "      <td>N=10</td>\n",
       "    </tr>\n",
       "    <tr>\n",
       "      <th>4</th>\n",
       "      <td>E-CDE-VAE</td>\n",
       "      <td>0.024698</td>\n",
       "      <td>N=10</td>\n",
       "    </tr>\n",
       "    <tr>\n",
       "      <th>4</th>\n",
       "      <td>E-CDE-VAE</td>\n",
       "      <td>0.021977</td>\n",
       "      <td>N=10</td>\n",
       "    </tr>\n",
       "    <tr>\n",
       "      <th>4</th>\n",
       "      <td>E-CDE-VAE</td>\n",
       "      <td>0.022916</td>\n",
       "      <td>N=10</td>\n",
       "    </tr>\n",
       "    <tr>\n",
       "      <th>4</th>\n",
       "      <td>E-CDE-VAE</td>\n",
       "      <td>0.027895</td>\n",
       "      <td>N=10</td>\n",
       "    </tr>\n",
       "    <tr>\n",
       "      <th>4</th>\n",
       "      <td>E-CDE-VAE</td>\n",
       "      <td>0.023434</td>\n",
       "      <td>N=10</td>\n",
       "    </tr>\n",
       "    <tr>\n",
       "      <th>4</th>\n",
       "      <td>E-CDE-VAE</td>\n",
       "      <td>0.025302</td>\n",
       "      <td>N=10</td>\n",
       "    </tr>\n",
       "    <tr>\n",
       "      <th>4</th>\n",
       "      <td>E-CDE-VAE</td>\n",
       "      <td>0.018218</td>\n",
       "      <td>N=10</td>\n",
       "    </tr>\n",
       "    <tr>\n",
       "      <th>4</th>\n",
       "      <td>E-CDE-VAE</td>\n",
       "      <td>0.022383</td>\n",
       "      <td>N=10</td>\n",
       "    </tr>\n",
       "    <tr>\n",
       "      <th>4</th>\n",
       "      <td>E-CDE-VAE</td>\n",
       "      <td>0.024187</td>\n",
       "      <td>N=10</td>\n",
       "    </tr>\n",
       "    <tr>\n",
       "      <th>4</th>\n",
       "      <td>E-CDE-VAE</td>\n",
       "      <td>0.026112</td>\n",
       "      <td>N=10</td>\n",
       "    </tr>\n",
       "    <tr>\n",
       "      <th>4</th>\n",
       "      <td>E-CDE-VAE</td>\n",
       "      <td>0.023472</td>\n",
       "      <td>N=20</td>\n",
       "    </tr>\n",
       "    <tr>\n",
       "      <th>4</th>\n",
       "      <td>E-CDE-VAE</td>\n",
       "      <td>0.024519</td>\n",
       "      <td>N=20</td>\n",
       "    </tr>\n",
       "    <tr>\n",
       "      <th>4</th>\n",
       "      <td>E-CDE-VAE</td>\n",
       "      <td>0.022863</td>\n",
       "      <td>N=20</td>\n",
       "    </tr>\n",
       "    <tr>\n",
       "      <th>4</th>\n",
       "      <td>E-CDE-VAE</td>\n",
       "      <td>0.023359</td>\n",
       "      <td>N=20</td>\n",
       "    </tr>\n",
       "    <tr>\n",
       "      <th>4</th>\n",
       "      <td>E-CDE-VAE</td>\n",
       "      <td>0.023713</td>\n",
       "      <td>N=20</td>\n",
       "    </tr>\n",
       "    <tr>\n",
       "      <th>4</th>\n",
       "      <td>E-CDE-VAE</td>\n",
       "      <td>0.023978</td>\n",
       "      <td>N=20</td>\n",
       "    </tr>\n",
       "    <tr>\n",
       "      <th>4</th>\n",
       "      <td>E-CDE-VAE</td>\n",
       "      <td>0.022555</td>\n",
       "      <td>N=20</td>\n",
       "    </tr>\n",
       "    <tr>\n",
       "      <th>4</th>\n",
       "      <td>E-CDE-VAE</td>\n",
       "      <td>0.024093</td>\n",
       "      <td>N=20</td>\n",
       "    </tr>\n",
       "    <tr>\n",
       "      <th>4</th>\n",
       "      <td>E-CDE-VAE</td>\n",
       "      <td>0.027807</td>\n",
       "      <td>N=20</td>\n",
       "    </tr>\n",
       "    <tr>\n",
       "      <th>4</th>\n",
       "      <td>E-CDE-VAE</td>\n",
       "      <td>0.023489</td>\n",
       "      <td>N=20</td>\n",
       "    </tr>\n",
       "    <tr>\n",
       "      <th>4</th>\n",
       "      <td>E-CDE-VAE</td>\n",
       "      <td>0.024459</td>\n",
       "      <td>N=20</td>\n",
       "    </tr>\n",
       "    <tr>\n",
       "      <th>4</th>\n",
       "      <td>E-CDE-VAE</td>\n",
       "      <td>0.020946</td>\n",
       "      <td>N=20</td>\n",
       "    </tr>\n",
       "    <tr>\n",
       "      <th>4</th>\n",
       "      <td>E-CDE-VAE</td>\n",
       "      <td>0.022875</td>\n",
       "      <td>N=20</td>\n",
       "    </tr>\n",
       "    <tr>\n",
       "      <th>4</th>\n",
       "      <td>E-CDE-VAE</td>\n",
       "      <td>0.024204</td>\n",
       "      <td>N=20</td>\n",
       "    </tr>\n",
       "    <tr>\n",
       "      <th>4</th>\n",
       "      <td>E-CDE-VAE</td>\n",
       "      <td>0.025388</td>\n",
       "      <td>N=20</td>\n",
       "    </tr>\n",
       "  </tbody>\n",
       "</table>\n",
       "</div>"
      ],
      "text/plain": [
       "       Model     F-MAP Metric\n",
       "4  E-CDE-VAE  0.020987    N=5\n",
       "4  E-CDE-VAE  0.024773    N=5\n",
       "4  E-CDE-VAE  0.023513    N=5\n",
       "4  E-CDE-VAE  0.023867    N=5\n",
       "4  E-CDE-VAE  0.024313    N=5\n",
       "4  E-CDE-VAE  0.026713    N=5\n",
       "4  E-CDE-VAE  0.022360    N=5\n",
       "4  E-CDE-VAE  0.021373    N=5\n",
       "4  E-CDE-VAE  0.027287    N=5\n",
       "4  E-CDE-VAE  0.022900    N=5\n",
       "4  E-CDE-VAE  0.024727    N=5\n",
       "4  E-CDE-VAE  0.015453    N=5\n",
       "4  E-CDE-VAE  0.024807    N=5\n",
       "4  E-CDE-VAE  0.025133    N=5\n",
       "4  E-CDE-VAE  0.029713    N=5\n",
       "4  E-CDE-VAE  0.022706   N=10\n",
       "4  E-CDE-VAE  0.024926   N=10\n",
       "4  E-CDE-VAE  0.023031   N=10\n",
       "4  E-CDE-VAE  0.022835   N=10\n",
       "4  E-CDE-VAE  0.023442   N=10\n",
       "4  E-CDE-VAE  0.024698   N=10\n",
       "4  E-CDE-VAE  0.021977   N=10\n",
       "4  E-CDE-VAE  0.022916   N=10\n",
       "4  E-CDE-VAE  0.027895   N=10\n",
       "4  E-CDE-VAE  0.023434   N=10\n",
       "4  E-CDE-VAE  0.025302   N=10\n",
       "4  E-CDE-VAE  0.018218   N=10\n",
       "4  E-CDE-VAE  0.022383   N=10\n",
       "4  E-CDE-VAE  0.024187   N=10\n",
       "4  E-CDE-VAE  0.026112   N=10\n",
       "4  E-CDE-VAE  0.023472   N=20\n",
       "4  E-CDE-VAE  0.024519   N=20\n",
       "4  E-CDE-VAE  0.022863   N=20\n",
       "4  E-CDE-VAE  0.023359   N=20\n",
       "4  E-CDE-VAE  0.023713   N=20\n",
       "4  E-CDE-VAE  0.023978   N=20\n",
       "4  E-CDE-VAE  0.022555   N=20\n",
       "4  E-CDE-VAE  0.024093   N=20\n",
       "4  E-CDE-VAE  0.027807   N=20\n",
       "4  E-CDE-VAE  0.023489   N=20\n",
       "4  E-CDE-VAE  0.024459   N=20\n",
       "4  E-CDE-VAE  0.020946   N=20\n",
       "4  E-CDE-VAE  0.022875   N=20\n",
       "4  E-CDE-VAE  0.024204   N=20\n",
       "4  E-CDE-VAE  0.025388   N=20"
      ]
     },
     "execution_count": 10,
     "metadata": {},
     "output_type": "execute_result"
    }
   ],
   "source": [
    "bar_df = return_barplot_df(filtered_df.loc[filtered_df['beta'] == 0.1])\n",
    "bar_df"
   ]
  },
  {
   "cell_type": "code",
   "execution_count": 11,
   "metadata": {},
   "outputs": [
    {
     "name": "stderr",
     "output_type": "stream",
     "text": [
      "No handles with labels found to put in legend.\n"
     ]
    },
    {
     "data": {
      "image/png": "[encoded data removed]",
      "text/plain": [
       "<Figure size 432x216 with 1 Axes>"
      ]
     },
     "metadata": {
      "needs_background": "light"
     },
     "output_type": "display_data"
    }
   ],
   "source": [
    "pandas_bar_plot(df=bar_df, x='Metric', y='F-MAP', hue=None, x_name='Number of Top-N Items', y_name='F-MAP', folder=\"CDsVinyl\", name='CDsVinyl_FMAP', save=False)"
   ]
  },
  {
   "cell_type": "code",
   "execution_count": null,
   "metadata": {},
   "outputs": [],
   "source": []
  },
  {
   "cell_type": "markdown",
   "metadata": {},
   "source": [
    "# Point Plot for different beta"
   ]
  },
  {
   "cell_type": "code",
   "execution_count": 12,
   "metadata": {},
   "outputs": [],
   "source": [
    "def return_pointplot_df(df):\n",
    "    df_fmap5 = df[['beta', 'F-MAP@5']]\n",
    "    df_fmap5.loc[:, 'Metric'] = ['F-MAP@5']*len(df_fmap5)\n",
    "    df_fmap5.rename(columns={'F-MAP@5':'F-MAP', 'beta':'Beta'}, inplace=True)\n",
    "    \n",
    "    df_fmap10 = df[['beta', 'F-MAP@10']]\n",
    "    df_fmap10.loc[:, 'Metric'] = ['F-MAP@10']*len(df_fmap10)\n",
    "    df_fmap10.rename(columns={'F-MAP@10':'F-MAP', 'beta':'Beta'}, inplace=True)\n",
    "\n",
    "    df_fmap20 = df[['beta', 'F-MAP@20']]\n",
    "    df_fmap20.loc[:, 'Metric'] = ['F-MAP@20']*len(df_fmap20)\n",
    "    df_fmap20.rename(columns={'F-MAP@20':'F-MAP', 'beta':'Beta'}, inplace=True)\n",
    "    \n",
    "    return df_fmap5, df_fmap10, df_fmap20"
   ]
  },
  {
   "cell_type": "code",
   "execution_count": 13,
   "metadata": {
    "scrolled": true
   },
   "outputs": [],
   "source": [
    "df_fmap5, df_fmap10, df_fmap20 = return_pointplot_df(filtered_df)"
   ]
  },
  {
   "cell_type": "code",
   "execution_count": 14,
   "metadata": {},
   "outputs": [],
   "source": [
    "def pandas_point_plot(df, x, y, hue, x_name, y_name, folder='figures', name='unknown', save=True):\n",
    "    fig, ax = plt.subplots(figsize=(6, 3))\n",
    "    sns.pointplot(ax=ax, x=x, y=y, hue=hue, data=df, linestyles=[\"--\"])\n",
    "\n",
    "    plt.xlabel(x_name)\n",
    "    plt.ylabel(y_name)\n",
    "    #plt.xticks(rotation=15)\n",
    "    plt.legend(loc='upper right', ncol=5)\n",
    "\n",
    "#     ax.legend_.remove()\n",
    "    plt.tight_layout()\n",
    "    if save:\n",
    "        fig_path = load_yaml('config/global.yml', key='path')['figs']\n",
    "        plt.savefig(\"{2}/{0}/{1}_line.pdf\".format(folder, name, fig_path), format=\"pdf\")\n",
    "        plt.savefig(\"{2}/{0}/{1}_line.png\".format(folder, name, fig_path), format=\"png\")\n",
    "\n",
    "        fig_leg = plt.figure(figsize=(12, 0.7))\n",
    "        ax_leg = fig_leg.add_subplot(111)\n",
    "        ax_leg.legend(*ax.get_legend_handles_labels(), loc='center', ncol=10)\n",
    "        ax_leg.axis('off')\n",
    "        fig_leg.savefig('figs/line_legend.pdf', format='pdf')\n",
    "\n",
    "    else:\n",
    "        plt.show()\n",
    "    plt.close()"
   ]
  },
  {
   "cell_type": "code",
   "execution_count": 15,
   "metadata": {
    "scrolled": true
   },
   "outputs": [
    {
     "name": "stderr",
     "output_type": "stream",
     "text": [
      "No handles with labels found to put in legend.\n"
     ]
    },
    {
     "data": {
      "image/png": "[encoded data removed]",
      "text/plain": [
       "<Figure size 432x216 with 1 Axes>"
      ]
     },
     "metadata": {
      "needs_background": "light"
     },
     "output_type": "display_data"
    }
   ],
   "source": [
    "pandas_point_plot(df=df_fmap5.loc[df_fmap5['Beta'] != 1.0], x=\"Beta\", y=\"F-MAP\", hue=None, x_name=\"Beta\", y_name=\"F-MAP@5\", folder='CDsVinyl', name='CDsVinyl_FMAP5_beta', save=False)"
   ]
  },
  {
   "cell_type": "code",
   "execution_count": 16,
   "metadata": {},
   "outputs": [
    {
     "name": "stderr",
     "output_type": "stream",
     "text": [
      "No handles with labels found to put in legend.\n"
     ]
    },
    {
     "data": {
      "image/png": "[encoded data removed]",
      "text/plain": [
       "<Figure size 432x216 with 1 Axes>"
      ]
     },
     "metadata": {
      "needs_background": "light"
     },
     "output_type": "display_data"
    }
   ],
   "source": [
    "pandas_point_plot(df=df_fmap10.loc[df_fmap10['Beta'] != 1.0], x=\"Beta\", y=\"F-MAP\", hue=None, x_name=\"Beta\", y_name=\"F-MAP@10\", folder='CDsVinyl', name='CDsVinyl_FMAP10_beta', save=False)"
   ]
  },
  {
   "cell_type": "code",
   "execution_count": 17,
   "metadata": {},
   "outputs": [
    {
     "name": "stderr",
     "output_type": "stream",
     "text": [
      "No handles with labels found to put in legend.\n"
     ]
    },
    {
     "data": {
      "image/png": "[encoded data removed]",
      "text/plain": [
       "<Figure size 432x216 with 1 Axes>"
      ]
     },
     "metadata": {
      "needs_background": "light"
     },
     "output_type": "display_data"
    }
   ],
   "source": [
    "pandas_point_plot(df=df_fmap20.loc[df_fmap20['Beta'] != 1.0], x=\"Beta\", y=\"F-MAP\", hue=None, x_name=\"Beta\", y_name=\"F-MAP@20\", folder='CDsVinyl', name='CDsVinyl_FMAP20_beta', save=False)"
   ]
  },
  {
   "cell_type": "code",
   "execution_count": 18,
   "metadata": {},
   "outputs": [
    {
     "data": {
      "text/html": [
       "<div>\n",
       "<style scoped>\n",
       "    .dataframe tbody tr th:only-of-type {\n",
       "        vertical-align: middle;\n",
       "    }\n",
       "\n",
       "    .dataframe tbody tr th {\n",
       "        vertical-align: top;\n",
       "    }\n",
       "\n",
       "    .dataframe thead th {\n",
       "        text-align: right;\n",
       "    }\n",
       "</style>\n",
       "<table border=\"1\" class=\"dataframe\">\n",
       "  <thead>\n",
       "    <tr style=\"text-align: right;\">\n",
       "      <th></th>\n",
       "      <th>model</th>\n",
       "      <th>rank</th>\n",
       "      <th>beta</th>\n",
       "      <th>lambda_l2</th>\n",
       "      <th>lambda_keyphrase</th>\n",
       "      <th>lambda_latent</th>\n",
       "      <th>lambda_rating</th>\n",
       "      <th>learning_rate</th>\n",
       "      <th>epoch</th>\n",
       "      <th>corruption</th>\n",
       "      <th>optimizer</th>\n",
       "      <th>F-MAP@5</th>\n",
       "      <th>F-MAP@10</th>\n",
       "      <th>F-MAP@20</th>\n",
       "    </tr>\n",
       "  </thead>\n",
       "  <tbody>\n",
       "    <tr>\n",
       "      <th>0</th>\n",
       "      <td>E-CDE-VAE</td>\n",
       "      <td>200</td>\n",
       "      <td>0.0000</td>\n",
       "      <td>0.01</td>\n",
       "      <td>1</td>\n",
       "      <td>1</td>\n",
       "      <td>1</td>\n",
       "      <td>0.0001</td>\n",
       "      <td>600</td>\n",
       "      <td>0.4</td>\n",
       "      <td>Adam</td>\n",
       "      <td>0.027864</td>\n",
       "      <td>0.027228</td>\n",
       "      <td>0.026612</td>\n",
       "    </tr>\n",
       "    <tr>\n",
       "      <th>1</th>\n",
       "      <td>E-CDE-VAE</td>\n",
       "      <td>200</td>\n",
       "      <td>0.0001</td>\n",
       "      <td>0.01</td>\n",
       "      <td>1</td>\n",
       "      <td>1</td>\n",
       "      <td>1</td>\n",
       "      <td>0.0001</td>\n",
       "      <td>600</td>\n",
       "      <td>0.4</td>\n",
       "      <td>Adam</td>\n",
       "      <td>0.024919</td>\n",
       "      <td>0.025770</td>\n",
       "      <td>0.025923</td>\n",
       "    </tr>\n",
       "    <tr>\n",
       "      <th>2</th>\n",
       "      <td>E-CDE-VAE</td>\n",
       "      <td>200</td>\n",
       "      <td>0.0010</td>\n",
       "      <td>0.01</td>\n",
       "      <td>1</td>\n",
       "      <td>1</td>\n",
       "      <td>1</td>\n",
       "      <td>0.0001</td>\n",
       "      <td>600</td>\n",
       "      <td>0.4</td>\n",
       "      <td>Adam</td>\n",
       "      <td>0.026839</td>\n",
       "      <td>0.027170</td>\n",
       "      <td>0.027013</td>\n",
       "    </tr>\n",
       "    <tr>\n",
       "      <th>3</th>\n",
       "      <td>E-CDE-VAE</td>\n",
       "      <td>200</td>\n",
       "      <td>0.0100</td>\n",
       "      <td>0.01</td>\n",
       "      <td>1</td>\n",
       "      <td>1</td>\n",
       "      <td>1</td>\n",
       "      <td>0.0001</td>\n",
       "      <td>600</td>\n",
       "      <td>0.4</td>\n",
       "      <td>Adam</td>\n",
       "      <td>0.024675</td>\n",
       "      <td>0.025132</td>\n",
       "      <td>0.025357</td>\n",
       "    </tr>\n",
       "    <tr>\n",
       "      <th>4</th>\n",
       "      <td>E-CDE-VAE</td>\n",
       "      <td>200</td>\n",
       "      <td>0.1000</td>\n",
       "      <td>0.01</td>\n",
       "      <td>1</td>\n",
       "      <td>1</td>\n",
       "      <td>1</td>\n",
       "      <td>0.0001</td>\n",
       "      <td>600</td>\n",
       "      <td>0.4</td>\n",
       "      <td>Adam</td>\n",
       "      <td>0.023861</td>\n",
       "      <td>0.023604</td>\n",
       "      <td>0.023848</td>\n",
       "    </tr>\n",
       "    <tr>\n",
       "      <th>5</th>\n",
       "      <td>E-CDE-VAE</td>\n",
       "      <td>200</td>\n",
       "      <td>1.0000</td>\n",
       "      <td>0.01</td>\n",
       "      <td>1</td>\n",
       "      <td>1</td>\n",
       "      <td>1</td>\n",
       "      <td>0.0001</td>\n",
       "      <td>600</td>\n",
       "      <td>0.4</td>\n",
       "      <td>Adam</td>\n",
       "      <td>0.000036</td>\n",
       "      <td>0.000577</td>\n",
       "      <td>0.001301</td>\n",
       "    </tr>\n",
       "  </tbody>\n",
       "</table>\n",
       "</div>"
      ],
      "text/plain": [
       "       model  rank    beta  lambda_l2  lambda_keyphrase  lambda_latent  \\\n",
       "0  E-CDE-VAE   200  0.0000       0.01                 1              1   \n",
       "1  E-CDE-VAE   200  0.0001       0.01                 1              1   \n",
       "2  E-CDE-VAE   200  0.0010       0.01                 1              1   \n",
       "3  E-CDE-VAE   200  0.0100       0.01                 1              1   \n",
       "4  E-CDE-VAE   200  0.1000       0.01                 1              1   \n",
       "5  E-CDE-VAE   200  1.0000       0.01                 1              1   \n",
       "\n",
       "   lambda_rating  learning_rate  epoch  corruption optimizer   F-MAP@5  \\\n",
       "0              1         0.0001    600         0.4      Adam  0.027864   \n",
       "1              1         0.0001    600         0.4      Adam  0.024919   \n",
       "2              1         0.0001    600         0.4      Adam  0.026839   \n",
       "3              1         0.0001    600         0.4      Adam  0.024675   \n",
       "4              1         0.0001    600         0.4      Adam  0.023861   \n",
       "5              1         0.0001    600         0.4      Adam  0.000036   \n",
       "\n",
       "   F-MAP@10  F-MAP@20  \n",
       "0  0.027228  0.026612  \n",
       "1  0.025770  0.025923  \n",
       "2  0.027170  0.027013  \n",
       "3  0.025132  0.025357  \n",
       "4  0.023604  0.023848  \n",
       "5  0.000577  0.001301  "
      ]
     },
     "execution_count": 18,
     "metadata": {},
     "output_type": "execute_result"
    }
   ],
   "source": [
    "beta_fmap = (filtered_df.groupby(['model', 'rank', 'beta', 'lambda_l2', 'lambda_keyphrase', 'lambda_latent', 'lambda_rating', 'learning_rate', 'epoch', 'corruption', 'optimizer'], as_index=False)\n",
    ".agg({'F-MAP@5':'mean', 'F-MAP@10':'mean','F-MAP@20':'mean'})).sort_values(by=['beta'])\n",
    "beta_fmap"
   ]
  },
  {
   "cell_type": "code",
   "execution_count": null,
   "metadata": {},
   "outputs": [],
   "source": []
  },
  {
   "cell_type": "code",
   "execution_count": 17,
   "metadata": {},
   "outputs": [
    {
     "data": {
      "text/html": [
       "<div>\n",
       "<style scoped>\n",
       "    .dataframe tbody tr th:only-of-type {\n",
       "        vertical-align: middle;\n",
       "    }\n",
       "\n",
       "    .dataframe tbody tr th {\n",
       "        vertical-align: top;\n",
       "    }\n",
       "\n",
       "    .dataframe thead th {\n",
       "        text-align: right;\n",
       "    }\n",
       "</style>\n",
       "<table border=\"1\" class=\"dataframe\">\n",
       "  <thead>\n",
       "    <tr style=\"text-align: right;\">\n",
       "      <th></th>\n",
       "      <th>Dataset</th>\n",
       "      <th>Beta</th>\n",
       "      <th>NDCG</th>\n",
       "      <th>MAP@20</th>\n",
       "      <th>Precision@20</th>\n",
       "      <th>Recall@20</th>\n",
       "      <th>R-Precision</th>\n",
       "    </tr>\n",
       "  </thead>\n",
       "  <tbody>\n",
       "    <tr>\n",
       "      <th>12</th>\n",
       "      <td>CdsVinyl</td>\n",
       "      <td>0.0000</td>\n",
       "      <td>0.7098</td>\n",
       "      <td>0.4111</td>\n",
       "      <td>0.2777</td>\n",
       "      <td>0.8567</td>\n",
       "      <td>0.4956</td>\n",
       "    </tr>\n",
       "    <tr>\n",
       "      <th>13</th>\n",
       "      <td>CdsVinyl</td>\n",
       "      <td>0.0001</td>\n",
       "      <td>0.7100</td>\n",
       "      <td>0.4105</td>\n",
       "      <td>0.2779</td>\n",
       "      <td>0.8572</td>\n",
       "      <td>0.4956</td>\n",
       "    </tr>\n",
       "    <tr>\n",
       "      <th>14</th>\n",
       "      <td>CdsVinyl</td>\n",
       "      <td>0.0010</td>\n",
       "      <td>0.7097</td>\n",
       "      <td>0.4105</td>\n",
       "      <td>0.2784</td>\n",
       "      <td>0.8583</td>\n",
       "      <td>0.4959</td>\n",
       "    </tr>\n",
       "    <tr>\n",
       "      <th>15</th>\n",
       "      <td>CdsVinyl</td>\n",
       "      <td>0.0100</td>\n",
       "      <td>0.7141</td>\n",
       "      <td>0.4125</td>\n",
       "      <td>0.2788</td>\n",
       "      <td>0.8601</td>\n",
       "      <td>0.4981</td>\n",
       "    </tr>\n",
       "    <tr>\n",
       "      <th>16</th>\n",
       "      <td>CdsVinyl</td>\n",
       "      <td>0.1000</td>\n",
       "      <td>0.7386</td>\n",
       "      <td>0.4298</td>\n",
       "      <td>0.2852</td>\n",
       "      <td>0.8813</td>\n",
       "      <td>0.5100</td>\n",
       "    </tr>\n",
       "    <tr>\n",
       "      <th>17</th>\n",
       "      <td>CdsVinyl</td>\n",
       "      <td>1.0000</td>\n",
       "      <td>0.6932</td>\n",
       "      <td>0.4056</td>\n",
       "      <td>0.2759</td>\n",
       "      <td>0.8546</td>\n",
       "      <td>0.4582</td>\n",
       "    </tr>\n",
       "  </tbody>\n",
       "</table>\n",
       "</div>"
      ],
      "text/plain": [
       "     Dataset    Beta    NDCG  MAP@20  Precision@20  Recall@20  R-Precision\n",
       "12  CdsVinyl  0.0000  0.7098  0.4111        0.2777     0.8567       0.4956\n",
       "13  CdsVinyl  0.0001  0.7100  0.4105        0.2779     0.8572       0.4956\n",
       "14  CdsVinyl  0.0010  0.7097  0.4105        0.2784     0.8583       0.4959\n",
       "15  CdsVinyl  0.0100  0.7141  0.4125        0.2788     0.8601       0.4981\n",
       "16  CdsVinyl  0.1000  0.7386  0.4298        0.2852     0.8813       0.5100\n",
       "17  CdsVinyl  1.0000  0.6932  0.4056        0.2759     0.8546       0.4582"
      ]
     },
     "execution_count": 17,
     "metadata": {},
     "output_type": "execute_result"
    }
   ],
   "source": [
    "beta_metrics_df = pd.read_csv(\"tables/FMAP20_Recommendation_Metrics.csv\").tail(6)\n",
    "beta_metrics_df"
   ]
  },
  {
   "cell_type": "code",
   "execution_count": 39,
   "metadata": {},
   "outputs": [
    {
     "name": "stderr",
     "output_type": "stream",
     "text": [
      "/home/kai/git/Dual-Encoder/utils/io.py:18: YAMLLoadWarning: calling yaml.load() without Loader=... is deprecated, as the default Loader is unsafe. Please read https://msg.pyyaml.org/load for full details.\n",
      "  return yaml.load(stream)[key]\n"
     ]
    },
    {
     "data": {
      "image/png": "[encoded data removed]",
      "text/plain": [
       "<Figure size 432x216 with 2 Axes>"
      ]
     },
     "metadata": {
      "needs_background": "light"
     },
     "output_type": "display_data"
    }
   ],
   "source": [
    "fmap_metrics_plot(df_fmap=beta_fmap, \n",
    "                  df_metrics=beta_metrics_df, \n",
    "                  x_fmap=\"beta\", \n",
    "                  y_fmap=\"F-MAP@20\", \n",
    "                  x_metrics=\"Beta\", \n",
    "                  y_metrics=\"F-MAP@20\", \n",
    "                  x_fmap_name=\"Beta\", \n",
    "                  y_fmap_name=\"NDCG\", \n",
    "                  x_metrics_name=\"Beta\", \n",
    "                  y_metrics_name=\"NDCG\",\n",
    "                  folder='CDsVinyl', \n",
    "                  name='CDsVinyl_fmap20_NDCG', \n",
    "                  save=True)"
   ]
  },
  {
   "cell_type": "code",
   "execution_count": null,
   "metadata": {},
   "outputs": [],
   "source": []
  },
  {
   "cell_type": "markdown",
   "metadata": {},
   "source": [
    "# Beer"
   ]
  },
  {
   "cell_type": "code",
   "execution_count": 19,
   "metadata": {},
   "outputs": [],
   "source": [
    "# df = load_fmap_log(folder_path='tables/beer_fmap/')\n",
    "df = load_fmap_log(folder_path='tables/beer_fmap_zeroout/')\n",
    "filtered_df = df.loc[(df['F-MAP@5'] != 0) & (df['F-MAP@10'] != 0) & (df['F-MAP@20'] != 0)]"
   ]
  },
  {
   "cell_type": "code",
   "execution_count": 20,
   "metadata": {},
   "outputs": [],
   "source": [
    "bar_df = return_barplot_df(filtered_df.loc[filtered_df['beta'] == 1])"
   ]
  },
  {
   "cell_type": "code",
   "execution_count": 21,
   "metadata": {},
   "outputs": [
    {
     "name": "stderr",
     "output_type": "stream",
     "text": [
      "No handles with labels found to put in legend.\n"
     ]
    },
    {
     "data": {
      "image/png": "[encoded data removed]",
      "text/plain": [
       "<Figure size 432x216 with 1 Axes>"
      ]
     },
     "metadata": {
      "needs_background": "light"
     },
     "output_type": "display_data"
    }
   ],
   "source": [
    "pandas_bar_plot(df=bar_df, x='Metric', y='F-MAP', hue=None, x_name='Number of Top-N Items', y_name='F-MAP', folder='beer', name='beer_FMAP', save=False)"
   ]
  },
  {
   "cell_type": "code",
   "execution_count": 22,
   "metadata": {},
   "outputs": [
    {
     "name": "stderr",
     "output_type": "stream",
     "text": [
      "No handles with labels found to put in legend.\n"
     ]
    },
    {
     "data": {
      "image/png": "[encoded data removed]",
      "text/plain": [
       "<Figure size 432x216 with 1 Axes>"
      ]
     },
     "metadata": {
      "needs_background": "light"
     },
     "output_type": "display_data"
    },
    {
     "name": "stderr",
     "output_type": "stream",
     "text": [
      "No handles with labels found to put in legend.\n"
     ]
    },
    {
     "data": {
      "image/png": "[encoded data removed]",
      "text/plain": [
       "<Figure size 432x216 with 1 Axes>"
      ]
     },
     "metadata": {
      "needs_background": "light"
     },
     "output_type": "display_data"
    },
    {
     "name": "stderr",
     "output_type": "stream",
     "text": [
      "No handles with labels found to put in legend.\n"
     ]
    },
    {
     "data": {
      "image/png": "[encoded data removed]",
      "text/plain": [
       "<Figure size 432x216 with 1 Axes>"
      ]
     },
     "metadata": {
      "needs_background": "light"
     },
     "output_type": "display_data"
    }
   ],
   "source": [
    "df_fmap5, df_fmap10, df_fmap20 = return_pointplot_df(filtered_df)\n",
    "pandas_point_plot(df=df_fmap5.loc[~df_fmap5['Beta'].isin([1.0])], x=\"Beta\", y=\"F-MAP\", hue=None, x_name=\"Beta\", y_name=\"F-MAP@5\", folder='beer', name='beer_FMAP5_beta', save=False)\n",
    "pandas_point_plot(df=df_fmap10.loc[~df_fmap10['Beta'].isin([1.0])], x=\"Beta\", y=\"F-MAP\", hue=None, x_name=\"Beta\", y_name=\"F-MAP@10\", folder='beer', name='beer_FMAP10_beta', save=False)\n",
    "pandas_point_plot(df=df_fmap20.loc[~df_fmap20['Beta'].isin([1.0])], x=\"Beta\", y=\"F-MAP\", hue=None, x_name=\"Beta\", y_name=\"F-MAP@20\", folder='beer', name='beer_FMAP20_beta', save=False)"
   ]
  },
  {
   "cell_type": "code",
   "execution_count": 23,
   "metadata": {},
   "outputs": [
    {
     "data": {
      "text/html": [
       "<div>\n",
       "<style scoped>\n",
       "    .dataframe tbody tr th:only-of-type {\n",
       "        vertical-align: middle;\n",
       "    }\n",
       "\n",
       "    .dataframe tbody tr th {\n",
       "        vertical-align: top;\n",
       "    }\n",
       "\n",
       "    .dataframe thead th {\n",
       "        text-align: right;\n",
       "    }\n",
       "</style>\n",
       "<table border=\"1\" class=\"dataframe\">\n",
       "  <thead>\n",
       "    <tr style=\"text-align: right;\">\n",
       "      <th></th>\n",
       "      <th>model</th>\n",
       "      <th>rank</th>\n",
       "      <th>beta</th>\n",
       "      <th>lambda_l2</th>\n",
       "      <th>lambda_keyphrase</th>\n",
       "      <th>lambda_latent</th>\n",
       "      <th>lambda_rating</th>\n",
       "      <th>learning_rate</th>\n",
       "      <th>epoch</th>\n",
       "      <th>corruption</th>\n",
       "      <th>optimizer</th>\n",
       "      <th>F-MAP@5</th>\n",
       "      <th>F-MAP@10</th>\n",
       "      <th>F-MAP@20</th>\n",
       "    </tr>\n",
       "  </thead>\n",
       "  <tbody>\n",
       "    <tr>\n",
       "      <th>0</th>\n",
       "      <td>E-CDE-VAE</td>\n",
       "      <td>100</td>\n",
       "      <td>0.0000</td>\n",
       "      <td>0.001</td>\n",
       "      <td>1</td>\n",
       "      <td>1</td>\n",
       "      <td>1</td>\n",
       "      <td>0.0005</td>\n",
       "      <td>600</td>\n",
       "      <td>0.4</td>\n",
       "      <td>Adam</td>\n",
       "      <td>0.036094</td>\n",
       "      <td>0.033398</td>\n",
       "      <td>0.029633</td>\n",
       "    </tr>\n",
       "    <tr>\n",
       "      <th>1</th>\n",
       "      <td>E-CDE-VAE</td>\n",
       "      <td>100</td>\n",
       "      <td>0.0001</td>\n",
       "      <td>0.001</td>\n",
       "      <td>1</td>\n",
       "      <td>1</td>\n",
       "      <td>1</td>\n",
       "      <td>0.0005</td>\n",
       "      <td>600</td>\n",
       "      <td>0.4</td>\n",
       "      <td>Adam</td>\n",
       "      <td>0.030855</td>\n",
       "      <td>0.027605</td>\n",
       "      <td>0.024730</td>\n",
       "    </tr>\n",
       "    <tr>\n",
       "      <th>2</th>\n",
       "      <td>E-CDE-VAE</td>\n",
       "      <td>100</td>\n",
       "      <td>0.0010</td>\n",
       "      <td>0.001</td>\n",
       "      <td>1</td>\n",
       "      <td>1</td>\n",
       "      <td>1</td>\n",
       "      <td>0.0005</td>\n",
       "      <td>600</td>\n",
       "      <td>0.4</td>\n",
       "      <td>Adam</td>\n",
       "      <td>0.008609</td>\n",
       "      <td>0.008839</td>\n",
       "      <td>0.009352</td>\n",
       "    </tr>\n",
       "    <tr>\n",
       "      <th>3</th>\n",
       "      <td>E-CDE-VAE</td>\n",
       "      <td>100</td>\n",
       "      <td>0.0100</td>\n",
       "      <td>0.001</td>\n",
       "      <td>1</td>\n",
       "      <td>1</td>\n",
       "      <td>1</td>\n",
       "      <td>0.0005</td>\n",
       "      <td>600</td>\n",
       "      <td>0.4</td>\n",
       "      <td>Adam</td>\n",
       "      <td>0.013770</td>\n",
       "      <td>0.013755</td>\n",
       "      <td>0.010901</td>\n",
       "    </tr>\n",
       "    <tr>\n",
       "      <th>4</th>\n",
       "      <td>E-CDE-VAE</td>\n",
       "      <td>100</td>\n",
       "      <td>0.1000</td>\n",
       "      <td>0.001</td>\n",
       "      <td>1</td>\n",
       "      <td>1</td>\n",
       "      <td>1</td>\n",
       "      <td>0.0005</td>\n",
       "      <td>600</td>\n",
       "      <td>0.4</td>\n",
       "      <td>Adam</td>\n",
       "      <td>0.001957</td>\n",
       "      <td>0.001757</td>\n",
       "      <td>0.001465</td>\n",
       "    </tr>\n",
       "    <tr>\n",
       "      <th>5</th>\n",
       "      <td>E-CDE-VAE</td>\n",
       "      <td>100</td>\n",
       "      <td>1.0000</td>\n",
       "      <td>0.001</td>\n",
       "      <td>1</td>\n",
       "      <td>1</td>\n",
       "      <td>1</td>\n",
       "      <td>0.0005</td>\n",
       "      <td>600</td>\n",
       "      <td>0.4</td>\n",
       "      <td>Adam</td>\n",
       "      <td>0.003269</td>\n",
       "      <td>0.000837</td>\n",
       "      <td>-0.001744</td>\n",
       "    </tr>\n",
       "  </tbody>\n",
       "</table>\n",
       "</div>"
      ],
      "text/plain": [
       "       model  rank    beta  lambda_l2  lambda_keyphrase  lambda_latent  \\\n",
       "0  E-CDE-VAE   100  0.0000      0.001                 1              1   \n",
       "1  E-CDE-VAE   100  0.0001      0.001                 1              1   \n",
       "2  E-CDE-VAE   100  0.0010      0.001                 1              1   \n",
       "3  E-CDE-VAE   100  0.0100      0.001                 1              1   \n",
       "4  E-CDE-VAE   100  0.1000      0.001                 1              1   \n",
       "5  E-CDE-VAE   100  1.0000      0.001                 1              1   \n",
       "\n",
       "   lambda_rating  learning_rate  epoch  corruption optimizer   F-MAP@5  \\\n",
       "0              1         0.0005    600         0.4      Adam  0.036094   \n",
       "1              1         0.0005    600         0.4      Adam  0.030855   \n",
       "2              1         0.0005    600         0.4      Adam  0.008609   \n",
       "3              1         0.0005    600         0.4      Adam  0.013770   \n",
       "4              1         0.0005    600         0.4      Adam  0.001957   \n",
       "5              1         0.0005    600         0.4      Adam  0.003269   \n",
       "\n",
       "   F-MAP@10  F-MAP@20  \n",
       "0  0.033398  0.029633  \n",
       "1  0.027605  0.024730  \n",
       "2  0.008839  0.009352  \n",
       "3  0.013755  0.010901  \n",
       "4  0.001757  0.001465  \n",
       "5  0.000837 -0.001744  "
      ]
     },
     "execution_count": 23,
     "metadata": {},
     "output_type": "execute_result"
    }
   ],
   "source": [
    "beta_fmap = (filtered_df.groupby(['model', 'rank', 'beta', 'lambda_l2', 'lambda_keyphrase', 'lambda_latent', 'lambda_rating', 'learning_rate', 'epoch', 'corruption', 'optimizer'], as_index=False)\n",
    ".agg({'F-MAP@5':'mean', 'F-MAP@10':'mean','F-MAP@20':'mean'})).sort_values(by=['beta'])\n",
    "beta_fmap"
   ]
  },
  {
   "cell_type": "code",
   "execution_count": 51,
   "metadata": {},
   "outputs": [
    {
     "data": {
      "text/html": [
       "<div>\n",
       "<style scoped>\n",
       "    .dataframe tbody tr th:only-of-type {\n",
       "        vertical-align: middle;\n",
       "    }\n",
       "\n",
       "    .dataframe tbody tr th {\n",
       "        vertical-align: top;\n",
       "    }\n",
       "\n",
       "    .dataframe thead th {\n",
       "        text-align: right;\n",
       "    }\n",
       "</style>\n",
       "<table border=\"1\" class=\"dataframe\">\n",
       "  <thead>\n",
       "    <tr style=\"text-align: right;\">\n",
       "      <th></th>\n",
       "      <th>model</th>\n",
       "      <th>rank</th>\n",
       "      <th>beta</th>\n",
       "      <th>lambda_l2</th>\n",
       "      <th>lambda_keyphrase</th>\n",
       "      <th>lambda_latent</th>\n",
       "      <th>lambda_rating</th>\n",
       "      <th>learning_rate</th>\n",
       "      <th>epoch</th>\n",
       "      <th>corruption</th>\n",
       "      <th>optimizer</th>\n",
       "      <th>F-MAP@5</th>\n",
       "      <th>F-MAP@10</th>\n",
       "      <th>F-MAP@20</th>\n",
       "    </tr>\n",
       "  </thead>\n",
       "  <tbody>\n",
       "    <tr>\n",
       "      <th>0</th>\n",
       "      <td>E-CDE-VAE</td>\n",
       "      <td>100</td>\n",
       "      <td>0.0000</td>\n",
       "      <td>0.001</td>\n",
       "      <td>1</td>\n",
       "      <td>1</td>\n",
       "      <td>1</td>\n",
       "      <td>0.0005</td>\n",
       "      <td>600</td>\n",
       "      <td>0.4</td>\n",
       "      <td>Adam</td>\n",
       "      <td>0.030666</td>\n",
       "      <td>0.029173</td>\n",
       "      <td>0.027408</td>\n",
       "    </tr>\n",
       "    <tr>\n",
       "      <th>1</th>\n",
       "      <td>E-CDE-VAE</td>\n",
       "      <td>100</td>\n",
       "      <td>0.0001</td>\n",
       "      <td>0.001</td>\n",
       "      <td>1</td>\n",
       "      <td>1</td>\n",
       "      <td>1</td>\n",
       "      <td>0.0005</td>\n",
       "      <td>600</td>\n",
       "      <td>0.4</td>\n",
       "      <td>Adam</td>\n",
       "      <td>0.029268</td>\n",
       "      <td>0.028542</td>\n",
       "      <td>0.028006</td>\n",
       "    </tr>\n",
       "    <tr>\n",
       "      <th>2</th>\n",
       "      <td>E-CDE-VAE</td>\n",
       "      <td>100</td>\n",
       "      <td>0.0010</td>\n",
       "      <td>0.001</td>\n",
       "      <td>1</td>\n",
       "      <td>1</td>\n",
       "      <td>1</td>\n",
       "      <td>0.0005</td>\n",
       "      <td>600</td>\n",
       "      <td>0.4</td>\n",
       "      <td>Adam</td>\n",
       "      <td>0.011167</td>\n",
       "      <td>0.012665</td>\n",
       "      <td>0.011731</td>\n",
       "    </tr>\n",
       "    <tr>\n",
       "      <th>3</th>\n",
       "      <td>E-CDE-VAE</td>\n",
       "      <td>100</td>\n",
       "      <td>0.0100</td>\n",
       "      <td>0.001</td>\n",
       "      <td>1</td>\n",
       "      <td>1</td>\n",
       "      <td>1</td>\n",
       "      <td>0.0005</td>\n",
       "      <td>600</td>\n",
       "      <td>0.4</td>\n",
       "      <td>Adam</td>\n",
       "      <td>0.016550</td>\n",
       "      <td>0.014210</td>\n",
       "      <td>0.014044</td>\n",
       "    </tr>\n",
       "    <tr>\n",
       "      <th>4</th>\n",
       "      <td>E-CDE-VAE</td>\n",
       "      <td>100</td>\n",
       "      <td>0.1000</td>\n",
       "      <td>0.001</td>\n",
       "      <td>1</td>\n",
       "      <td>1</td>\n",
       "      <td>1</td>\n",
       "      <td>0.0005</td>\n",
       "      <td>600</td>\n",
       "      <td>0.4</td>\n",
       "      <td>Adam</td>\n",
       "      <td>-0.000301</td>\n",
       "      <td>0.000839</td>\n",
       "      <td>0.001059</td>\n",
       "    </tr>\n",
       "    <tr>\n",
       "      <th>5</th>\n",
       "      <td>E-CDE-VAE</td>\n",
       "      <td>100</td>\n",
       "      <td>1.0000</td>\n",
       "      <td>0.001</td>\n",
       "      <td>1</td>\n",
       "      <td>1</td>\n",
       "      <td>1</td>\n",
       "      <td>0.0005</td>\n",
       "      <td>600</td>\n",
       "      <td>0.4</td>\n",
       "      <td>Adam</td>\n",
       "      <td>0.004712</td>\n",
       "      <td>0.001448</td>\n",
       "      <td>-0.002067</td>\n",
       "    </tr>\n",
       "  </tbody>\n",
       "</table>\n",
       "</div>"
      ],
      "text/plain": [
       "       model  rank    beta  lambda_l2  lambda_keyphrase  lambda_latent  \\\n",
       "0  E-CDE-VAE   100  0.0000      0.001                 1              1   \n",
       "1  E-CDE-VAE   100  0.0001      0.001                 1              1   \n",
       "2  E-CDE-VAE   100  0.0010      0.001                 1              1   \n",
       "3  E-CDE-VAE   100  0.0100      0.001                 1              1   \n",
       "4  E-CDE-VAE   100  0.1000      0.001                 1              1   \n",
       "5  E-CDE-VAE   100  1.0000      0.001                 1              1   \n",
       "\n",
       "   lambda_rating  learning_rate  epoch  corruption optimizer   F-MAP@5  \\\n",
       "0              1         0.0005    600         0.4      Adam  0.030666   \n",
       "1              1         0.0005    600         0.4      Adam  0.029268   \n",
       "2              1         0.0005    600         0.4      Adam  0.011167   \n",
       "3              1         0.0005    600         0.4      Adam  0.016550   \n",
       "4              1         0.0005    600         0.4      Adam -0.000301   \n",
       "5              1         0.0005    600         0.4      Adam  0.004712   \n",
       "\n",
       "   F-MAP@10  F-MAP@20  \n",
       "0  0.029173  0.027408  \n",
       "1  0.028542  0.028006  \n",
       "2  0.012665  0.011731  \n",
       "3  0.014210  0.014044  \n",
       "4  0.000839  0.001059  \n",
       "5  0.001448 -0.002067  "
      ]
     },
     "execution_count": 51,
     "metadata": {},
     "output_type": "execute_result"
    }
   ],
   "source": [
    "beta_fmap = (filtered_df.groupby(['model', 'rank', 'beta', 'lambda_l2', 'lambda_keyphrase', 'lambda_latent', 'lambda_rating', 'learning_rate', 'epoch', 'corruption', 'optimizer'], as_index=False)\n",
    ".agg({'F-MAP@5':'mean', 'F-MAP@10':'mean','F-MAP@20':'mean'})).sort_values(by=['beta'])\n",
    "beta_fmap"
   ]
  },
  {
   "cell_type": "code",
   "execution_count": 21,
   "metadata": {},
   "outputs": [
    {
     "data": {
      "text/html": [
       "<div>\n",
       "<style scoped>\n",
       "    .dataframe tbody tr th:only-of-type {\n",
       "        vertical-align: middle;\n",
       "    }\n",
       "\n",
       "    .dataframe tbody tr th {\n",
       "        vertical-align: top;\n",
       "    }\n",
       "\n",
       "    .dataframe thead th {\n",
       "        text-align: right;\n",
       "    }\n",
       "</style>\n",
       "<table border=\"1\" class=\"dataframe\">\n",
       "  <thead>\n",
       "    <tr style=\"text-align: right;\">\n",
       "      <th></th>\n",
       "      <th>Dataset</th>\n",
       "      <th>Beta</th>\n",
       "      <th>NDCG</th>\n",
       "      <th>MAP@20</th>\n",
       "      <th>Precision@20</th>\n",
       "      <th>Recall@20</th>\n",
       "      <th>R-Precision</th>\n",
       "    </tr>\n",
       "  </thead>\n",
       "  <tbody>\n",
       "    <tr>\n",
       "      <th>0</th>\n",
       "      <td>Beer</td>\n",
       "      <td>0.0000</td>\n",
       "      <td>0.5609</td>\n",
       "      <td>0.8227</td>\n",
       "      <td>0.7783</td>\n",
       "      <td>0.4699</td>\n",
       "      <td>0.4471</td>\n",
       "    </tr>\n",
       "    <tr>\n",
       "      <th>1</th>\n",
       "      <td>Beer</td>\n",
       "      <td>0.0001</td>\n",
       "      <td>0.5612</td>\n",
       "      <td>0.8231</td>\n",
       "      <td>0.7792</td>\n",
       "      <td>0.4701</td>\n",
       "      <td>0.4478</td>\n",
       "    </tr>\n",
       "    <tr>\n",
       "      <th>2</th>\n",
       "      <td>Beer</td>\n",
       "      <td>0.0010</td>\n",
       "      <td>0.5606</td>\n",
       "      <td>0.8232</td>\n",
       "      <td>0.7794</td>\n",
       "      <td>0.4693</td>\n",
       "      <td>0.4466</td>\n",
       "    </tr>\n",
       "    <tr>\n",
       "      <th>3</th>\n",
       "      <td>Beer</td>\n",
       "      <td>0.0100</td>\n",
       "      <td>0.5618</td>\n",
       "      <td>0.8240</td>\n",
       "      <td>0.7809</td>\n",
       "      <td>0.4705</td>\n",
       "      <td>0.4488</td>\n",
       "    </tr>\n",
       "    <tr>\n",
       "      <th>4</th>\n",
       "      <td>Beer</td>\n",
       "      <td>0.1000</td>\n",
       "      <td>0.5843</td>\n",
       "      <td>0.8669</td>\n",
       "      <td>0.8058</td>\n",
       "      <td>0.4814</td>\n",
       "      <td>0.4591</td>\n",
       "    </tr>\n",
       "    <tr>\n",
       "      <th>5</th>\n",
       "      <td>Beer</td>\n",
       "      <td>1.0000</td>\n",
       "      <td>0.5854</td>\n",
       "      <td>0.8708</td>\n",
       "      <td>0.8071</td>\n",
       "      <td>0.4812</td>\n",
       "      <td>0.4595</td>\n",
       "    </tr>\n",
       "  </tbody>\n",
       "</table>\n",
       "</div>"
      ],
      "text/plain": [
       "  Dataset    Beta    NDCG  MAP@20  Precision@20  Recall@20  R-Precision\n",
       "0    Beer  0.0000  0.5609  0.8227        0.7783     0.4699       0.4471\n",
       "1    Beer  0.0001  0.5612  0.8231        0.7792     0.4701       0.4478\n",
       "2    Beer  0.0010  0.5606  0.8232        0.7794     0.4693       0.4466\n",
       "3    Beer  0.0100  0.5618  0.8240        0.7809     0.4705       0.4488\n",
       "4    Beer  0.1000  0.5843  0.8669        0.8058     0.4814       0.4591\n",
       "5    Beer  1.0000  0.5854  0.8708        0.8071     0.4812       0.4595"
      ]
     },
     "execution_count": 21,
     "metadata": {},
     "output_type": "execute_result"
    }
   ],
   "source": [
    "beta_metrics_df = pd.read_csv(\"tables/FMAP20_Recommendation_Metrics.csv\").head(6)\n",
    "beta_metrics_df"
   ]
  },
  {
   "cell_type": "code",
   "execution_count": 68,
   "metadata": {},
   "outputs": [
    {
     "data": {
      "image/png": "[encoded data removed]",
      "text/plain": [
       "<Figure size 432x216 with 2 Axes>"
      ]
     },
     "metadata": {
      "needs_background": "light"
     },
     "output_type": "display_data"
    }
   ],
   "source": [
    "fmap_metrics_plot(df_fmap=beta_fmap, \n",
    "                  df_metrics=beta_metrics_df, \n",
    "                  x_fmap=\"beta\", \n",
    "                  y_fmap=\"F-MAP@20\", \n",
    "                  x_metrics=\"Beta\", \n",
    "                  y_metrics=\"F-MAP@20\", \n",
    "                  x_fmap_name=\"Beta\", \n",
    "                  y_fmap_name=\"NDCG\", \n",
    "                  x_metrics_name=\"Beta\", \n",
    "                  y_metrics_name=\"NDCG\",\n",
    "                  folder='beer', \n",
    "                  name='beer_fmap20_NDCG', \n",
    "                  save=True)"
   ]
  },
  {
   "cell_type": "code",
   "execution_count": 35,
   "metadata": {},
   "outputs": [
    {
     "data": {
      "image/png": "[encoded data removed]",
      "text/plain": [
       "<Figure size 432x216 with 2 Axes>"
      ]
     },
     "metadata": {
      "needs_background": "light"
     },
     "output_type": "display_data"
    }
   ],
   "source": [
    "fig, ax = plt.subplots(figsize=(6, 3))\n",
    "sns.pointplot(ax=ax, x=\"beta\", y=\"F-MAP@20\", data=beta_fmap, linestyles=[\"--\"], color='b')\n",
    "ax.set_xlabel('Beta')\n",
    "ax.set_ylabel('F-MAP@20', color='b')\n",
    "ax2 = ax.twinx()\n",
    "sns.pointplot(ax=ax2, x=\"Beta\", y=\"NDCG\", data=beta_metrics_df, linestyles=[\"--\"], markers=\"x\", color='r')\n",
    "ax2.set_ylabel('NDCG', color='r')\n",
    "plt.tight_layout()"
   ]
  },
  {
   "cell_type": "code",
   "execution_count": null,
   "metadata": {},
   "outputs": [],
   "source": [
    "def pandas_point_plot(df, x, y, hue, x_name, y_name, folder='figures', name='unknown', save=True):\n",
    "    fig, ax = plt.subplots(figsize=(6, 3))\n",
    "    sns.pointplot(ax=ax, x=x, y=y, hue=hue, data=df, linestyles=[\"--\"])\n",
    "\n",
    "    plt.xlabel(x_name)\n",
    "    plt.ylabel(y_name)\n",
    "    #plt.xticks(rotation=15)\n",
    "    plt.legend(loc='upper right', ncol=5)\n",
    "\n",
    "#     ax.legend_.remove()\n",
    "    plt.tight_layout()\n",
    "    if save:\n",
    "        fig_path = load_yaml('config/global.yml', key='path')['figs']\n",
    "        plt.savefig(\"{2}/{0}/{1}_line.pdf\".format(folder, name, fig_path), format=\"pdf\")\n",
    "        plt.savefig(\"{2}/{0}/{1}_line.png\".format(folder, name, fig_path), format=\"png\")\n",
    "\n",
    "        fig_leg = plt.figure(figsize=(12, 0.7))\n",
    "        ax_leg = fig_leg.add_subplot(111)\n",
    "        ax_leg.legend(*ax.get_legend_handles_labels(), loc='center', ncol=10)\n",
    "        ax_leg.axis('off')\n",
    "        fig_leg.savefig('figs/line_legend.pdf', format='pdf')\n",
    "\n",
    "    else:\n",
    "        plt.show()\n",
    "    plt.close()"
   ]
  }
 ],
 "metadata": {
  "kernelspec": {
   "display_name": "Python [conda env:de] *",
   "language": "python",
   "name": "conda-env-de-py"
  },
  "language_info": {
   "codemirror_mode": {
    "name": "ipython",
    "version": 3
   },
   "file_extension": ".py",
   "mimetype": "text/x-python",
   "name": "python",
   "nbconvert_exporter": "python",
   "pygments_lexer": "ipython3",
   "version": "3.6.9"
  }
 },
 "nbformat": 4,
 "nbformat_minor": 2
}
