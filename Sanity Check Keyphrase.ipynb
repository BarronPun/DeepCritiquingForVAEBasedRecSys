{
 "cells": [
  {
   "cell_type": "code",
   "execution_count": 1,
   "metadata": {},
   "outputs": [],
   "source": [
    "import warnings\n",
    "warnings.filterwarnings(\"ignore\")\n",
    "\n",
    "from utils.io import load_numpy\n",
    "from utils.modelnames import models"
   ]
  },
  {
   "cell_type": "markdown",
   "metadata": {},
   "source": [
    "# Dataset Parameters"
   ]
  },
  {
   "cell_type": "code",
   "execution_count": 2,
   "metadata": {},
   "outputs": [],
   "source": [
    "DATA_DIR = \"data/beer/\"\n",
    "TEST_SET = \"Rtest.npz\"\n",
    "TEST_KEYPHRASE_SET = \"Rtest_keyphrase.npz\"\n",
    "TRAIN_SET = \"Rtrain.npz\"\n",
    "TRAIN_KEYPHRASE_SET = \"Rtrain_keyphrase.npz\"\n",
    "VALID_SET = \"Rvalid.npz\"\n",
    "VALID_KEYPHRASE_SET = \"Rvalid_keyphrase.npz\""
   ]
  },
  {
   "cell_type": "markdown",
   "metadata": {},
   "source": [
    "# Algorithm Parameters"
   ]
  },
  {
   "cell_type": "code",
   "execution_count": 3,
   "metadata": {},
   "outputs": [],
   "source": [
    "CORRUPTION = 0.5\n",
    "ENABLE_EVALUATION = True\n",
    "ENABLE_VALIDATION = True\n",
    "ENABLE_KEYPHRASE_BINARIZATION = True\n",
    "EPOCH = 100\n",
    "LAMB = 1.0\n",
    "LEARNING_RATE = 0.0001\n",
    "MODEL = \"E-CDE-VAE\"\n",
    "OPTIMIZER = \"RMSProp\"\n",
    "#OPTIMIZER = \"SGD\"\n",
    "PREDICT_BATCH_SIZE = 128\n",
    "RANK = 200\n",
    "TRAIN_BATCH_SIZE = 128\n",
    "TOP_K = 10"
   ]
  },
  {
   "cell_type": "markdown",
   "metadata": {},
   "source": [
    "# Load Dataset"
   ]
  },
  {
   "cell_type": "code",
   "execution_count": 4,
   "metadata": {},
   "outputs": [],
   "source": [
    "R_train = load_numpy(path=DATA_DIR, name=TRAIN_SET)\n",
    "R_train_keyphrase = load_numpy(path=DATA_DIR, name=TRAIN_KEYPHRASE_SET).toarray()\n",
    "\n",
    "if ENABLE_VALIDATION:\n",
    "    R_valid = load_numpy(path=DATA_DIR, name=VALID_SET)\n",
    "    R_valid_keyphrase = load_numpy(path=DATA_DIR, name=VALID_KEYPHRASE_SET).toarray()\n",
    "else:\n",
    "    R_valid = load_numpy(path=DATA_DIR, name=TEST_SET)\n",
    "    R_valid_keyphrase = load_numpy(path=DATA_DIR, name=TEST_KEYPHRASE_SET).toarray()"
   ]
  },
  {
   "cell_type": "markdown",
   "metadata": {},
   "source": [
    "# Preprocess Keyphrase Frequency"
   ]
  },
  {
   "cell_type": "code",
   "execution_count": 5,
   "metadata": {},
   "outputs": [],
   "source": [
    "if ENABLE_KEYPHRASE_BINARIZATION:\n",
    "    R_train_keyphrase[R_train_keyphrase != 0] = 1\n",
    "    R_valid_keyphrase[R_valid_keyphrase != 0] = 1\n",
    "else:\n",
    "    R_train_keyphrase = R_train_keyphrase/R_train_keyphrase.sum(axis=1, keepdims=True)\n",
    "    R_valid_keyphrase = R_valid_keyphrase/R_valid_keyphrase.sum(axis=1, keepdims=True)\n",
    "\n",
    "    R_train_keyphrase[np.isnan(R_train_keyphrase)] = 0\n",
    "    R_valid_keyphrase[np.isnan(R_valid_keyphrase)] = 0"
   ]
  },
  {
   "cell_type": "code",
   "execution_count": 6,
   "metadata": {},
   "outputs": [
    {
     "name": "stderr",
     "output_type": "stream",
     "text": [
      "loss:394.63885498046875: 100%|██████████| 100/100 [01:27<00:00,  1.14it/s]\n"
     ]
    }
   ],
   "source": [
    "model = models[MODEL](matrix_train=R_train, epoch=EPOCH, lamb=LAMB,learning_rate=LEARNING_RATE, rank=RANK,\n",
    "                      corruption=CORRUPTION, optimizer=OPTIMIZER, matrix_train_keyphrase=R_train_keyphrase)"
   ]
  },
  {
   "cell_type": "code",
   "execution_count": 7,
   "metadata": {},
   "outputs": [],
   "source": [
    "test_user_id = 0\n",
    "critiqued_keyphrase_id = 1"
   ]
  },
  {
   "cell_type": "code",
   "execution_count": 8,
   "metadata": {},
   "outputs": [
    {
     "name": "stdout",
     "output_type": "stream",
     "text": [
      "(1, 3668) (1, 75)\n"
     ]
    }
   ],
   "source": [
    "rating_score, keyphrase_score = model.predict(R_train[test_user_id].todense())\n",
    "print(rating_score.shape, keyphrase_score.shape)"
   ]
  },
  {
   "cell_type": "code",
   "execution_count": 9,
   "metadata": {},
   "outputs": [
    {
     "data": {
      "text/plain": [
       "array([[-0.00014141,  0.01085081,  0.01627357, ...,  0.02069396,\n",
       "         0.00501348,  0.00769704]], dtype=float32)"
      ]
     },
     "execution_count": 9,
     "metadata": {},
     "output_type": "execute_result"
    }
   ],
   "source": [
    "rating_score"
   ]
  },
  {
   "cell_type": "code",
   "execution_count": 10,
   "metadata": {},
   "outputs": [
    {
     "data": {
      "text/plain": [
       "array([[0.93262786, 0.98555124, 0.9535328 , 0.60341537, 0.7344937 ,\n",
       "        0.8469087 , 0.96411395, 0.6039724 , 0.9452054 , 0.79670143,\n",
       "        0.73527163, 0.8752825 , 0.96736515, 0.7084904 , 0.9785485 ,\n",
       "        0.6483189 , 0.9784133 , 0.7483007 , 0.88875467, 0.78744376,\n",
       "        0.7544249 , 0.9402257 , 0.81381917, 0.66915315, 0.80628335,\n",
       "        0.5761661 , 0.761001  , 0.5538577 , 0.6058177 , 0.60442364,\n",
       "        0.83978987, 0.8207746 , 0.5022013 , 0.28117794, 0.810387  ,\n",
       "        0.522275  , 0.84464073, 0.35082194, 0.72249734, 0.94570553,\n",
       "        0.8230682 , 0.75211024, 0.912652  , 0.9738541 , 0.9748421 ,\n",
       "        0.95261645, 0.29634532, 0.84514344, 0.47035575, 0.20061696,\n",
       "        0.9580046 , 0.8459009 , 0.6725446 , 0.4075176 , 0.505136  ,\n",
       "        0.96252024, 0.7694533 , 0.37329292, 0.9419836 , 0.48908934,\n",
       "        0.6853951 , 0.5384829 , 0.8013108 , 0.59437543, 0.7483212 ,\n",
       "        0.76345336, 0.6260147 , 0.75828457, 0.8030437 , 0.51728576,\n",
       "        0.4940862 , 0.7271875 , 0.59354144, 0.4997654 , 0.6692363 ]],\n",
       "      dtype=float32)"
      ]
     },
     "execution_count": 10,
     "metadata": {},
     "output_type": "execute_result"
    }
   ],
   "source": [
    "keyphrase_score"
   ]
  },
  {
   "cell_type": "code",
   "execution_count": 11,
   "metadata": {},
   "outputs": [],
   "source": [
    "keyphrase_score[0][critiqued_keyphrase_id] = 0"
   ]
  },
  {
   "cell_type": "code",
   "execution_count": 12,
   "metadata": {},
   "outputs": [],
   "source": [
    "predict_after_critique = model.refined_predict(R_train[test_user_id].todense(), keyphrase_score)"
   ]
  },
  {
   "cell_type": "code",
   "execution_count": 13,
   "metadata": {},
   "outputs": [
    {
     "data": {
      "text/plain": [
       "(array([[-0.0002335 ,  0.01045509,  0.01592206, ...,  0.0172024 ,\n",
       "          0.0058167 ,  0.0064716 ]], dtype=float32),\n",
       " array([[0.9121127 , 0.9773251 , 0.938652  , 0.5481717 , 0.69912046,\n",
       "         0.8156452 , 0.94809586, 0.55751944, 0.9249548 , 0.77141047,\n",
       "         0.70789397, 0.85056365, 0.95269847, 0.6608616 , 0.9682739 ,\n",
       "         0.61465156, 0.9681691 , 0.70152813, 0.86379   , 0.7509316 ,\n",
       "         0.709941  , 0.9247551 , 0.77779806, 0.6122557 , 0.76581174,\n",
       "         0.51561165, 0.719752  , 0.5024022 , 0.5579069 , 0.5625218 ,\n",
       "         0.80098736, 0.77390224, 0.4588316 , 0.25620362, 0.76497877,\n",
       "         0.46387583, 0.8226349 , 0.31275883, 0.6709151 , 0.92927456,\n",
       "         0.78791106, 0.7166598 , 0.8923062 , 0.96243286, 0.9647181 ,\n",
       "         0.94000876, 0.27378976, 0.8208513 , 0.41801828, 0.171776  ,\n",
       "         0.9392847 , 0.8215877 , 0.6459424 , 0.36528942, 0.45769995,\n",
       "         0.9487524 , 0.7259425 , 0.33124462, 0.92580044, 0.44880962,\n",
       "         0.6435186 , 0.48870587, 0.75423056, 0.54413277, 0.7045355 ,\n",
       "         0.73035765, 0.55170286, 0.6995055 , 0.7614688 , 0.48527288,\n",
       "         0.44077814, 0.6889508 , 0.54721904, 0.46002412, 0.61693215]],\n",
       "       dtype=float32))"
      ]
     },
     "execution_count": 13,
     "metadata": {},
     "output_type": "execute_result"
    }
   ],
   "source": [
    "predict_after_critique"
   ]
  }
 ],
 "metadata": {
  "kernelspec": {
   "display_name": "TensorFlow-GPU",
   "language": "python",
   "name": "tf-gpu"
  },
  "language_info": {
   "codemirror_mode": {
    "name": "ipython",
    "version": 3
   },
   "file_extension": ".py",
   "mimetype": "text/x-python",
   "name": "python",
   "nbconvert_exporter": "python",
   "pygments_lexer": "ipython3",
   "version": "3.6.8"
  }
 },
 "nbformat": 4,
 "nbformat_minor": 2
}
