{
 "cells": [
  {
   "cell_type": "code",
   "execution_count": 1,
   "metadata": {},
   "outputs": [],
   "source": [
    "import warnings\n",
    "warnings.filterwarnings(\"ignore\")\n",
    "\n",
    "from utils.io import load_numpy\n",
    "from utils.modelnames import models"
   ]
  },
  {
   "cell_type": "markdown",
   "metadata": {},
   "source": [
    "# Dataset Parameters"
   ]
  },
  {
   "cell_type": "code",
   "execution_count": 2,
   "metadata": {},
   "outputs": [],
   "source": [
    "DATA_DIR = \"data/beer/\"\n",
    "TEST_SET = \"Rtest.npz\"\n",
    "TEST_KEYPHRASE_SET = \"Rtest_keyphrase.npz\"\n",
    "TRAIN_SET = \"Rtrain.npz\"\n",
    "TRAIN_KEYPHRASE_SET = \"Rtrain_keyphrase.npz\"\n",
    "VALID_SET = \"Rvalid.npz\"\n",
    "VALID_KEYPHRASE_SET = \"Rvalid_keyphrase.npz\""
   ]
  },
  {
   "cell_type": "markdown",
   "metadata": {},
   "source": [
    "# Algorithm Parameters"
   ]
  },
  {
   "cell_type": "code",
   "execution_count": 3,
   "metadata": {},
   "outputs": [],
   "source": [
    "CORRUPTION = 0.5\n",
    "ENABLE_EVALUATION = True\n",
    "ENABLE_VALIDATION = True\n",
    "ENABLE_KEYPHRASE_BINARIZATION = True\n",
    "EPOCH = 100\n",
    "LAMB = 1.0\n",
    "LEARNING_RATE = 0.0001\n",
    "MODEL = \"E-CDE-VAE\"\n",
    "#OPTIMIZER = \"RMSProp\"\n",
    "OPTIMIZER = \"SGD\"\n",
    "PREDICT_BATCH_SIZE = 128\n",
    "RANK = 200\n",
    "TRAIN_BATCH_SIZE = 128\n",
    "TOP_K = 10"
   ]
  },
  {
   "cell_type": "markdown",
   "metadata": {},
   "source": [
    "# Load Dataset"
   ]
  },
  {
   "cell_type": "code",
   "execution_count": 4,
   "metadata": {},
   "outputs": [],
   "source": [
    "R_train = load_numpy(path=DATA_DIR, name=TRAIN_SET)\n",
    "R_train_keyphrase = load_numpy(path=DATA_DIR, name=TRAIN_KEYPHRASE_SET).toarray()\n",
    "\n",
    "if ENABLE_VALIDATION:\n",
    "    R_valid = load_numpy(path=DATA_DIR, name=VALID_SET)\n",
    "    R_valid_keyphrase = load_numpy(path=DATA_DIR, name=VALID_KEYPHRASE_SET).toarray()\n",
    "else:\n",
    "    R_valid = load_numpy(path=DATA_DIR, name=TEST_SET)\n",
    "    R_valid_keyphrase = load_numpy(path=DATA_DIR, name=TEST_KEYPHRASE_SET).toarray()"
   ]
  },
  {
   "cell_type": "markdown",
   "metadata": {},
   "source": [
    "# Preprocess Keyphrase Frequency"
   ]
  },
  {
   "cell_type": "code",
   "execution_count": 5,
   "metadata": {},
   "outputs": [],
   "source": [
    "if ENABLE_KEYPHRASE_BINARIZATION:\n",
    "    R_train_keyphrase[R_train_keyphrase != 0] = 1\n",
    "    R_valid_keyphrase[R_valid_keyphrase != 0] = 1\n",
    "else:\n",
    "    R_train_keyphrase = R_train_keyphrase/R_train_keyphrase.sum(axis=1, keepdims=True)\n",
    "    R_valid_keyphrase = R_valid_keyphrase/R_valid_keyphrase.sum(axis=1, keepdims=True)\n",
    "\n",
    "    R_train_keyphrase[np.isnan(R_train_keyphrase)] = 0\n",
    "    R_valid_keyphrase[np.isnan(R_valid_keyphrase)] = 0"
   ]
  },
  {
   "cell_type": "code",
   "execution_count": 6,
   "metadata": {},
   "outputs": [
    {
     "name": "stdout",
     "output_type": "stream",
     "text": [
      "WARNING:tensorflow:From /home/hojin/code/Dual-Encoder/models/e_cdevae.py:43: calling dropout (from tensorflow.python.ops.nn_ops) with keep_prob is deprecated and will be removed in a future version.\n",
      "Instructions for updating:\n",
      "Please use `rate` instead of `keep_prob`. Rate should be set to `rate = 1 - keep_prob`.\n",
      "WARNING:tensorflow:From /home/hojin/anaconda3/envs/de/lib/python3.6/site-packages/tensorflow/python/framework/op_def_library.py:263: colocate_with (from tensorflow.python.framework.ops) is deprecated and will be removed in a future version.\n",
      "Instructions for updating:\n",
      "Colocations handled automatically by placer.\n",
      "WARNING:tensorflow:From /home/hojin/code/Dual-Encoder/models/e_cdevae.py:89: dense (from tensorflow.python.layers.core) is deprecated and will be removed in a future version.\n",
      "Instructions for updating:\n",
      "Use keras.layers.dense instead.\n",
      "WARNING:tensorflow:From /home/hojin/anaconda3/envs/de/lib/python3.6/site-packages/tensorflow/python/ops/losses/losses_impl.py:667: to_float (from tensorflow.python.ops.math_ops) is deprecated and will be removed in a future version.\n",
      "Instructions for updating:\n",
      "Use tf.cast instead.\n"
     ]
    },
    {
     "name": "stderr",
     "output_type": "stream",
     "text": [
      "100%|██████████| 100/100 [00:48<00:00,  2.07it/s]\n"
     ]
    }
   ],
   "source": [
    "model = models[MODEL](matrix_train=R_train, epoch=EPOCH, lamb=LAMB,learning_rate=LEARNING_RATE, rank=RANK,\n",
    "                      corruption=CORRUPTION, optimizer=OPTIMIZER, matrix_train_keyphrase=R_train_keyphrase)"
   ]
  },
  {
   "cell_type": "code",
   "execution_count": 28,
   "metadata": {},
   "outputs": [],
   "source": [
    "test_user_id = 0\n",
    "critiqued_kp_id = 20"
   ]
  },
  {
   "cell_type": "code",
   "execution_count": 35,
   "metadata": {},
   "outputs": [
    {
     "name": "stdout",
     "output_type": "stream",
     "text": [
      "(1, 3668) (1, 75)\n"
     ]
    }
   ],
   "source": [
    "obs_predict, kp_predict = model.inference(R_train[test_user_id].todense())\n",
    "print(obs_predict.shape, kp_predict.shape)"
   ]
  },
  {
   "cell_type": "code",
   "execution_count": 30,
   "metadata": {},
   "outputs": [
    {
     "data": {
      "text/plain": [
       "array([[0.00163807, 0.00273792, 0.00899216, ..., 0.0084057 , 0.00447585,\n",
       "        0.00379748]], dtype=float32)"
      ]
     },
     "execution_count": 30,
     "metadata": {},
     "output_type": "execute_result"
    }
   ],
   "source": [
    "obs_predict"
   ]
  },
  {
   "cell_type": "code",
   "execution_count": 31,
   "metadata": {},
   "outputs": [
    {
     "data": {
      "text/plain": [
       "array([[0.05894641, 0.06316086, 0.0604354 , 0.03281329, 0.04420486,\n",
       "        0.05163432, 0.0609065 , 0.03441197, 0.05963526, 0.04969142,\n",
       "        0.04576517, 0.05530015, 0.06146105, 0.041384  , 0.06315634,\n",
       "        0.03950001, 0.0630089 , 0.04351932, 0.05509656, 0.04724025,\n",
       "        0.04450922, 0.06005137, 0.04930573, 0.0380764 , 0.04920959,\n",
       "        0.03000186, 0.04432834, 0.03085965, 0.03395664, 0.03491366,\n",
       "        0.050824  , 0.04798291, 0.0279957 , 0.01502237, 0.04792813,\n",
       "        0.02774025, 0.05326298, 0.01941372, 0.04163877, 0.06022866,\n",
       "        0.0498877 , 0.04545897, 0.05772493, 0.06232624, 0.06258562,\n",
       "        0.06126428, 0.01720895, 0.05172535, 0.02532583, 0.00958497,\n",
       "        0.05993828, 0.05294066, 0.04010186, 0.02218165, 0.02836389,\n",
       "        0.06135029, 0.04495427, 0.02052977, 0.06057613, 0.0280016 ,\n",
       "        0.04003042, 0.03000054, 0.0465077 , 0.03346527, 0.04361808,\n",
       "        0.04611693, 0.03201109, 0.04333023, 0.04769679, 0.0300342 ,\n",
       "        0.02711027, 0.04327786, 0.03341189, 0.0282364 , 0.03797668]],\n",
       "      dtype=float32)"
      ]
     },
     "execution_count": 31,
     "metadata": {},
     "output_type": "execute_result"
    }
   ],
   "source": [
    "kp_predict"
   ]
  },
  {
   "cell_type": "code",
   "execution_count": 32,
   "metadata": {},
   "outputs": [],
   "source": [
    "kp_predict[0][critiqued_kp_id] = 0"
   ]
  },
  {
   "cell_type": "code",
   "execution_count": 33,
   "metadata": {},
   "outputs": [],
   "source": [
    "predict_after_critique = model.critiquing(R_train[test_user_id].todense(), kp_predict)"
   ]
  },
  {
   "cell_type": "code",
   "execution_count": 34,
   "metadata": {},
   "outputs": [
    {
     "data": {
      "text/plain": [
       "array([[0.00171375, 0.0027337 , 0.00907784, ..., 0.00849446, 0.00447073,\n",
       "        0.00373947]], dtype=float32)"
      ]
     },
     "execution_count": 34,
     "metadata": {},
     "output_type": "execute_result"
    }
   ],
   "source": [
    "predict_after_critique"
   ]
  }
 ],
 "metadata": {
  "kernelspec": {
   "display_name": "Python 3",
   "language": "python",
   "name": "python3"
  },
  "language_info": {
   "codemirror_mode": {
    "name": "ipython",
    "version": 3
   },
   "file_extension": ".py",
   "mimetype": "text/x-python",
   "name": "python",
   "nbconvert_exporter": "python",
   "pygments_lexer": "ipython3",
   "version": "3.6.9"
  }
 },
 "nbformat": 4,
 "nbformat_minor": 2
}
