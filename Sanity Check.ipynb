{
 "cells": [
  {
   "cell_type": "code",
   "execution_count": 1,
   "metadata": {},
   "outputs": [],
   "source": [
    "from utils.io import load_numpy\n",
    "from utils.modelnames import models"
   ]
  },
  {
   "cell_type": "markdown",
   "metadata": {},
   "source": [
    "# Dataset Parameters"
   ]
  },
  {
   "cell_type": "code",
   "execution_count": 2,
   "metadata": {},
   "outputs": [],
   "source": [
    "DATA_DIR = \"data/beer/\"\n",
    "TEST_SET = \"Rtest.npz\"\n",
    "TEST_KEYPHRASE_SET = \"Rtest_keyphrase.npz\"\n",
    "TRAIN_SET = \"Rtrain.npz\"\n",
    "TRAIN_KEYPHRASE_SET = \"Rtrain_keyphrase.npz\"\n",
    "VALID_SET = \"Rvalid.npz\"\n",
    "VALID_KEYPHRASE_SET = \"Rvalid_keyphrase.npz\""
   ]
  },
  {
   "cell_type": "markdown",
   "metadata": {},
   "source": [
    "# Algorithm Parameters"
   ]
  },
  {
   "cell_type": "code",
   "execution_count": 3,
   "metadata": {},
   "outputs": [],
   "source": [
    "CORRUPTION = 0.5\n",
    "ENABLE_EVALUATION = True\n",
    "ENABLE_VALIDATION = True\n",
    "ENABLE_KEYPHRASE_BINARIZATION = True\n",
    "EPOCH = 100\n",
    "LAMB = 1.0\n",
    "LEARNING_RATE = 0.0001\n",
    "MODEL = \"CDE-VAE\"\n",
    "OPTIMIZER = \"RMSProp\"\n",
    "PREDICT_BATCH_SIZE = 128\n",
    "RANK = 200\n",
    "TRAIN_BATCH_SIZE = 128\n",
    "TOP_K = 10"
   ]
  },
  {
   "cell_type": "markdown",
   "metadata": {},
   "source": [
    "# Load Dataset"
   ]
  },
  {
   "cell_type": "code",
   "execution_count": 4,
   "metadata": {},
   "outputs": [],
   "source": [
    "R_train = load_numpy(path=DATA_DIR, name=TRAIN_SET)\n",
    "R_train_keyphrase = load_numpy(path=DATA_DIR, name=TRAIN_KEYPHRASE_SET).toarray()\n",
    "\n",
    "if ENABLE_VALIDATION:\n",
    "    R_valid = load_numpy(path=DATA_DIR, name=VALID_SET)\n",
    "    R_valid_keyphrase = load_numpy(path=DATA_DIR, name=VALID_KEYPHRASE_SET).toarray()\n",
    "else:\n",
    "    R_valid = load_numpy(path=DATA_DIR, name=TEST_SET)\n",
    "    R_valid_keyphrase = load_numpy(path=DATA_DIR, name=TEST_KEYPHRASE_SET).toarray()"
   ]
  },
  {
   "cell_type": "markdown",
   "metadata": {},
   "source": [
    "# Preprocess Keyphrase Frequency"
   ]
  },
  {
   "cell_type": "code",
   "execution_count": 5,
   "metadata": {},
   "outputs": [],
   "source": [
    "if ENABLE_KEYPHRASE_BINARIZATION:\n",
    "    R_train_keyphrase[R_train_keyphrase != 0] = 1\n",
    "    R_valid_keyphrase[R_valid_keyphrase != 0] = 1\n",
    "else:\n",
    "    R_train_keyphrase = R_train_keyphrase/R_train_keyphrase.sum(axis=1, keepdims=True)\n",
    "    R_valid_keyphrase = R_valid_keyphrase/R_valid_keyphrase.sum(axis=1, keepdims=True)\n",
    "\n",
    "    R_train_keyphrase[np.isnan(R_train_keyphrase)] = 0\n",
    "    R_valid_keyphrase[np.isnan(R_valid_keyphrase)] = 0"
   ]
  },
  {
   "cell_type": "code",
   "execution_count": 6,
   "metadata": {},
   "outputs": [
    {
     "name": "stderr",
     "output_type": "stream",
     "text": [
      "100%|██████████| 100/100 [01:46<00:00,  1.08s/it]\n"
     ]
    }
   ],
   "source": [
    "model = models[MODEL](matrix_train=R_train, epoch=EPOCH, lamb=LAMB,learning_rate=LEARNING_RATE, rank=RANK,\n",
    "                      corruption=CORRUPTION, optimizer=OPTIMIZER, matrix_train_keyphrase=R_train_keyphrase)"
   ]
  },
  {
   "cell_type": "code",
   "execution_count": 7,
   "metadata": {},
   "outputs": [],
   "source": [
    "test_user_id = 0\n",
    "critiqued_item_id = 20"
   ]
  },
  {
   "cell_type": "code",
   "execution_count": 8,
   "metadata": {},
   "outputs": [],
   "source": [
    "predict = model.inference(R_train[test_user_id].todense())"
   ]
  },
  {
   "cell_type": "code",
   "execution_count": 9,
   "metadata": {},
   "outputs": [
    {
     "data": {
      "text/plain": [
       "0.0050382284"
      ]
     },
     "execution_count": 9,
     "metadata": {},
     "output_type": "execute_result"
    }
   ],
   "source": [
    "predict[0][critiqued_item_id]"
   ]
  },
  {
   "cell_type": "code",
   "execution_count": 10,
   "metadata": {},
   "outputs": [],
   "source": [
    "predict[0][critiqued_item_id] = -1"
   ]
  },
  {
   "cell_type": "code",
   "execution_count": 11,
   "metadata": {},
   "outputs": [],
   "source": [
    "predict_after_critique = model.critiquing(R_train[test_user_id].todense(), predict)"
   ]
  },
  {
   "cell_type": "code",
   "execution_count": 12,
   "metadata": {},
   "outputs": [
    {
     "data": {
      "text/plain": [
       "0.0050011026"
      ]
     },
     "execution_count": 12,
     "metadata": {},
     "output_type": "execute_result"
    }
   ],
   "source": [
    "predict_after_critique[0][critiqued_item_id]"
   ]
  },
  {
   "cell_type": "code",
   "execution_count": null,
   "metadata": {},
   "outputs": [],
   "source": []
  }
 ],
 "metadata": {
  "kernelspec": {
   "display_name": "TensorFlow-GPU",
   "language": "python",
   "name": "tf-gpu"
  },
  "language_info": {
   "codemirror_mode": {
    "name": "ipython",
    "version": 3
   },
   "file_extension": ".py",
   "mimetype": "text/x-python",
   "name": "python",
   "nbconvert_exporter": "python",
   "pygments_lexer": "ipython3",
   "version": "3.6.8"
  }
 },
 "nbformat": 4,
 "nbformat_minor": 2
}
