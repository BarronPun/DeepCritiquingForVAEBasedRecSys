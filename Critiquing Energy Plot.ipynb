{
 "cells": [
  {
   "cell_type": "code",
   "execution_count": 1,
   "metadata": {},
   "outputs": [],
   "source": [
    "import pandas as pd"
   ]
  },
  {
   "cell_type": "code",
   "execution_count": 2,
   "metadata": {},
   "outputs": [
    {
     "data": {
      "text/plain": [
       "{'figure.facecolor': 'white',\n",
       " 'axes.labelcolor': '.15',\n",
       " 'xtick.direction': 'out',\n",
       " 'ytick.direction': 'out',\n",
       " 'xtick.color': '.15',\n",
       " 'ytick.color': '.15',\n",
       " 'axes.axisbelow': True,\n",
       " 'grid.linestyle': '-',\n",
       " 'text.color': '.15',\n",
       " 'font.family': ['sans-serif'],\n",
       " 'font.sans-serif': ['Arial',\n",
       "  'DejaVu Sans',\n",
       "  'Liberation Sans',\n",
       "  'Bitstream Vera Sans',\n",
       "  'sans-serif'],\n",
       " 'lines.solid_capstyle': 'round',\n",
       " 'patch.edgecolor': 'w',\n",
       " 'patch.force_edgecolor': True,\n",
       " 'image.cmap': 'rocket',\n",
       " 'xtick.top': False,\n",
       " 'ytick.right': False,\n",
       " 'axes.grid': False,\n",
       " 'axes.facecolor': 'white',\n",
       " 'axes.edgecolor': '.15',\n",
       " 'grid.color': '.8',\n",
       " 'axes.spines.left': True,\n",
       " 'axes.spines.bottom': True,\n",
       " 'axes.spines.right': True,\n",
       " 'axes.spines.top': True,\n",
       " 'xtick.bottom': False,\n",
       " 'ytick.left': False}"
      ]
     },
     "execution_count": 2,
     "metadata": {},
     "output_type": "execute_result"
    }
   ],
   "source": [
    "import itertools\n",
    "import matplotlib.pyplot as plt\n",
    "import seaborn as sns\n",
    "from utils.io import load_yaml\n",
    "from ast import literal_eval\n",
    "sns.axes_style(\"white\")"
   ]
  },
  {
   "cell_type": "code",
   "execution_count": 3,
   "metadata": {},
   "outputs": [],
   "source": [
    "def pandas_bar_plot(df, x, y, hue, x_name, y_name, folder='figures', name='unknown', save=True):\n",
    "    fig, ax = plt.subplots(figsize=(6, 3))\n",
    "    sns.barplot(ax=ax, x=x, y=y, hue=hue, data=df, errwidth=1, edgecolor='black', facecolor=(1, 1, 1, 0)) #, errwidth=0.5\n",
    "\n",
    "    num_category = len(df[x].unique())\n",
    "    hatch = None\n",
    "    hatches = itertools.cycle(['//', '\\\\\\\\\\\\\\\\', '**', '////', '----', 'xxxx', ' ', '\\\\', '...', 'OOO', \"++++++++\"])\n",
    "    for i, bar in enumerate(ax.patches):\n",
    "        if i % num_category == 0:\n",
    "            hatch = next(hatches)\n",
    "        bar.set_hatch(hatch)\n",
    "\n",
    "    plt.xlabel(x_name)\n",
    "    plt.ylabel(y_name)\n",
    "    #plt.xticks(rotation=15)\n",
    "    plt.legend(loc='upper left', ncol=5)\n",
    "    # if 'Precision' not in y:\n",
    "    ax.legend_.remove()\n",
    "    plt.tight_layout()\n",
    "    if save:\n",
    "        fig_path = load_yaml('config/global.yml', key='path')['figs']\n",
    "        plt.savefig(\"{2}/{0}/{1}_bar.pdf\".format(folder, name, fig_path), format=\"pdf\")\n",
    "        plt.savefig(\"{2}/{0}/{1}_bar.png\".format(folder, name, fig_path), format=\"png\")\n",
    "\n",
    "        fig_leg = plt.figure(figsize=(5, 0.7))\n",
    "        ax_leg = fig_leg.add_subplot(111)\n",
    "        ax_leg.legend(*ax.get_legend_handles_labels(), loc='center', ncol=3)\n",
    "        ax_leg.axis('off')\n",
    "        fig_leg.savefig('figs/bar_legend.pdf', format='pdf')\n",
    "\n",
    "    else:\n",
    "        plt.show()\n",
    "    plt.close()"
   ]
  },
  {
   "cell_type": "markdown",
   "metadata": {},
   "source": [
    "# Zero-out"
   ]
  },
  {
   "cell_type": "markdown",
   "metadata": {},
   "source": [
    "### CDsVinyl Beta 1e-4"
   ]
  },
  {
   "cell_type": "code",
   "execution_count": 4,
   "metadata": {},
   "outputs": [
    {
     "data": {
      "text/html": [
       "<div>\n",
       "<style scoped>\n",
       "    .dataframe tbody tr th:only-of-type {\n",
       "        vertical-align: middle;\n",
       "    }\n",
       "\n",
       "    .dataframe tbody tr th {\n",
       "        vertical-align: top;\n",
       "    }\n",
       "\n",
       "    .dataframe thead th {\n",
       "        text-align: right;\n",
       "    }\n",
       "</style>\n",
       "<table border=\"1\" class=\"dataframe\">\n",
       "  <thead>\n",
       "    <tr style=\"text-align: right;\">\n",
       "      <th></th>\n",
       "      <th>Time</th>\n",
       "      <th>Energy</th>\n",
       "    </tr>\n",
       "  </thead>\n",
       "  <tbody>\n",
       "    <tr>\n",
       "      <th>0</th>\n",
       "      <td>1</td>\n",
       "      <td>0.291216</td>\n",
       "    </tr>\n",
       "    <tr>\n",
       "      <th>1</th>\n",
       "      <td>2</td>\n",
       "      <td>0.283083</td>\n",
       "    </tr>\n",
       "    <tr>\n",
       "      <th>2</th>\n",
       "      <td>3</td>\n",
       "      <td>0.273586</td>\n",
       "    </tr>\n",
       "    <tr>\n",
       "      <th>3</th>\n",
       "      <td>4</td>\n",
       "      <td>0.263645</td>\n",
       "    </tr>\n",
       "    <tr>\n",
       "      <th>4</th>\n",
       "      <td>5</td>\n",
       "      <td>0.253837</td>\n",
       "    </tr>\n",
       "  </tbody>\n",
       "</table>\n",
       "</div>"
      ],
      "text/plain": [
       "   Time    Energy\n",
       "0     1  0.291216\n",
       "1     2  0.283083\n",
       "2     3  0.273586\n",
       "3     4  0.263645\n",
       "4     5  0.253837"
      ]
     },
     "execution_count": 4,
     "metadata": {},
     "output_type": "execute_result"
    }
   ],
   "source": [
    "df_zero_out = pd.read_csv(\"tables/CDsVinyl_fmap_energy/zero_out/CDsVinyl_fmap_energy_beta_1e-4.csv\")\n",
    "df_zero_out['Energy'] /= 40\n",
    "df_zero_out.groupby('Time', as_index=False).agg({'Energy': 'mean'})"
   ]
  },
  {
   "cell_type": "code",
   "execution_count": 5,
   "metadata": {},
   "outputs": [
    {
     "name": "stderr",
     "output_type": "stream",
     "text": [
      "No handles with labels found to put in legend.\n"
     ]
    },
    {
     "data": {
      "image/png": "[encoded data removed]",
      "text/plain": [
       "<Figure size 432x216 with 1 Axes>"
      ]
     },
     "metadata": {
      "needs_background": "light"
     },
     "output_type": "display_data"
    }
   ],
   "source": [
    "pandas_bar_plot(df=df_zero_out, x='Time', y='Energy', hue=None, x_name='Number of Critiquing Loops', y_name='Average Score of Keyphrase Prediction', folder='CDsVinyl', name='energy', save=False)"
   ]
  },
  {
   "cell_type": "code",
   "execution_count": null,
   "metadata": {},
   "outputs": [],
   "source": []
  },
  {
   "cell_type": "markdown",
   "metadata": {},
   "source": [
    "# Redistribute"
   ]
  },
  {
   "cell_type": "markdown",
   "metadata": {},
   "source": [
    "### CDsVinyl Beta 0.0001"
   ]
  },
  {
   "cell_type": "code",
   "execution_count": 6,
   "metadata": {},
   "outputs": [
    {
     "data": {
      "text/html": [
       "<div>\n",
       "<style scoped>\n",
       "    .dataframe tbody tr th:only-of-type {\n",
       "        vertical-align: middle;\n",
       "    }\n",
       "\n",
       "    .dataframe tbody tr th {\n",
       "        vertical-align: top;\n",
       "    }\n",
       "\n",
       "    .dataframe thead th {\n",
       "        text-align: right;\n",
       "    }\n",
       "</style>\n",
       "<table border=\"1\" class=\"dataframe\">\n",
       "  <thead>\n",
       "    <tr style=\"text-align: right;\">\n",
       "      <th></th>\n",
       "      <th>Time</th>\n",
       "      <th>Energy</th>\n",
       "    </tr>\n",
       "  </thead>\n",
       "  <tbody>\n",
       "    <tr>\n",
       "      <th>0</th>\n",
       "      <td>1</td>\n",
       "      <td>0.290266</td>\n",
       "    </tr>\n",
       "    <tr>\n",
       "      <th>1</th>\n",
       "      <td>2</td>\n",
       "      <td>0.288896</td>\n",
       "    </tr>\n",
       "    <tr>\n",
       "      <th>2</th>\n",
       "      <td>3</td>\n",
       "      <td>0.288139</td>\n",
       "    </tr>\n",
       "    <tr>\n",
       "      <th>3</th>\n",
       "      <td>4</td>\n",
       "      <td>0.287721</td>\n",
       "    </tr>\n",
       "    <tr>\n",
       "      <th>4</th>\n",
       "      <td>5</td>\n",
       "      <td>0.287336</td>\n",
       "    </tr>\n",
       "  </tbody>\n",
       "</table>\n",
       "</div>"
      ],
      "text/plain": [
       "   Time    Energy\n",
       "0     1  0.290266\n",
       "1     2  0.288896\n",
       "2     3  0.288139\n",
       "3     4  0.287721\n",
       "4     5  0.287336"
      ]
     },
     "execution_count": 6,
     "metadata": {},
     "output_type": "execute_result"
    }
   ],
   "source": [
    "df_redistribute = pd.read_csv(\"tables/CDsVinyl_fmap_energy/redistribute/CDsVinyl_fmap_energy_beta_1e-4.csv\")\n",
    "df_redistribute['Energy'] /= 40\n",
    "df_redistribute.groupby('Time', as_index=False).agg({'Energy': 'mean'})"
   ]
  },
  {
   "cell_type": "code",
   "execution_count": 7,
   "metadata": {},
   "outputs": [
    {
     "name": "stderr",
     "output_type": "stream",
     "text": [
      "No handles with labels found to put in legend.\n"
     ]
    },
    {
     "data": {
      "image/png": "[encoded data removed]",
      "text/plain": [
       "<Figure size 432x216 with 1 Axes>"
      ]
     },
     "metadata": {
      "needs_background": "light"
     },
     "output_type": "display_data"
    }
   ],
   "source": [
    "pandas_bar_plot(df=df_redistribute, x='Time', y='Energy', hue=None, x_name='Number of Critiquing Loops', y_name='Average Score of Keyphrase Prediction', folder='CDsVinyl', name='energy', save=False)"
   ]
  },
  {
   "cell_type": "code",
   "execution_count": null,
   "metadata": {},
   "outputs": [],
   "source": []
  },
  {
   "cell_type": "code",
   "execution_count": 8,
   "metadata": {
    "scrolled": true
   },
   "outputs": [],
   "source": [
    "df_zero_out['Critiquing Function'] = \"Zero Out\""
   ]
  },
  {
   "cell_type": "code",
   "execution_count": 9,
   "metadata": {},
   "outputs": [
    {
     "data": {
      "text/html": [
       "<div>\n",
       "<style scoped>\n",
       "    .dataframe tbody tr th:only-of-type {\n",
       "        vertical-align: middle;\n",
       "    }\n",
       "\n",
       "    .dataframe tbody tr th {\n",
       "        vertical-align: top;\n",
       "    }\n",
       "\n",
       "    .dataframe thead th {\n",
       "        text-align: right;\n",
       "    }\n",
       "</style>\n",
       "<table border=\"1\" class=\"dataframe\">\n",
       "  <thead>\n",
       "    <tr style=\"text-align: right;\">\n",
       "      <th></th>\n",
       "      <th>User</th>\n",
       "      <th>Time</th>\n",
       "      <th>Energy</th>\n",
       "      <th>Critiquing Function</th>\n",
       "    </tr>\n",
       "  </thead>\n",
       "  <tbody>\n",
       "    <tr>\n",
       "      <th>0</th>\n",
       "      <td>2732</td>\n",
       "      <td>1</td>\n",
       "      <td>0.197472</td>\n",
       "      <td>Zero Out</td>\n",
       "    </tr>\n",
       "    <tr>\n",
       "      <th>1</th>\n",
       "      <td>2732</td>\n",
       "      <td>2</td>\n",
       "      <td>0.195186</td>\n",
       "      <td>Zero Out</td>\n",
       "    </tr>\n",
       "    <tr>\n",
       "      <th>2</th>\n",
       "      <td>2732</td>\n",
       "      <td>3</td>\n",
       "      <td>0.188077</td>\n",
       "      <td>Zero Out</td>\n",
       "    </tr>\n",
       "    <tr>\n",
       "      <th>3</th>\n",
       "      <td>2732</td>\n",
       "      <td>4</td>\n",
       "      <td>0.175828</td>\n",
       "      <td>Zero Out</td>\n",
       "    </tr>\n",
       "    <tr>\n",
       "      <th>4</th>\n",
       "      <td>2732</td>\n",
       "      <td>5</td>\n",
       "      <td>0.166811</td>\n",
       "      <td>Zero Out</td>\n",
       "    </tr>\n",
       "  </tbody>\n",
       "</table>\n",
       "</div>"
      ],
      "text/plain": [
       "   User  Time    Energy Critiquing Function\n",
       "0  2732     1  0.197472            Zero Out\n",
       "1  2732     2  0.195186            Zero Out\n",
       "2  2732     3  0.188077            Zero Out\n",
       "3  2732     4  0.175828            Zero Out\n",
       "4  2732     5  0.166811            Zero Out"
      ]
     },
     "execution_count": 9,
     "metadata": {},
     "output_type": "execute_result"
    }
   ],
   "source": [
    "df_zero_out.head()"
   ]
  },
  {
   "cell_type": "code",
   "execution_count": 10,
   "metadata": {},
   "outputs": [],
   "source": [
    "df_redistribute['Critiquing Function'] = \"Energy Redistribution\""
   ]
  },
  {
   "cell_type": "code",
   "execution_count": 11,
   "metadata": {},
   "outputs": [
    {
     "data": {
      "text/html": [
       "<div>\n",
       "<style scoped>\n",
       "    .dataframe tbody tr th:only-of-type {\n",
       "        vertical-align: middle;\n",
       "    }\n",
       "\n",
       "    .dataframe tbody tr th {\n",
       "        vertical-align: top;\n",
       "    }\n",
       "\n",
       "    .dataframe thead th {\n",
       "        text-align: right;\n",
       "    }\n",
       "</style>\n",
       "<table border=\"1\" class=\"dataframe\">\n",
       "  <thead>\n",
       "    <tr style=\"text-align: right;\">\n",
       "      <th></th>\n",
       "      <th>User</th>\n",
       "      <th>Time</th>\n",
       "      <th>Energy</th>\n",
       "      <th>Critiquing Function</th>\n",
       "    </tr>\n",
       "  </thead>\n",
       "  <tbody>\n",
       "    <tr>\n",
       "      <th>0</th>\n",
       "      <td>2732</td>\n",
       "      <td>1</td>\n",
       "      <td>0.194655</td>\n",
       "      <td>Energy Redistribution</td>\n",
       "    </tr>\n",
       "    <tr>\n",
       "      <th>1</th>\n",
       "      <td>2732</td>\n",
       "      <td>2</td>\n",
       "      <td>0.196230</td>\n",
       "      <td>Energy Redistribution</td>\n",
       "    </tr>\n",
       "    <tr>\n",
       "      <th>2</th>\n",
       "      <td>2732</td>\n",
       "      <td>3</td>\n",
       "      <td>0.196776</td>\n",
       "      <td>Energy Redistribution</td>\n",
       "    </tr>\n",
       "    <tr>\n",
       "      <th>3</th>\n",
       "      <td>2732</td>\n",
       "      <td>4</td>\n",
       "      <td>0.195197</td>\n",
       "      <td>Energy Redistribution</td>\n",
       "    </tr>\n",
       "    <tr>\n",
       "      <th>4</th>\n",
       "      <td>2732</td>\n",
       "      <td>5</td>\n",
       "      <td>0.194054</td>\n",
       "      <td>Energy Redistribution</td>\n",
       "    </tr>\n",
       "  </tbody>\n",
       "</table>\n",
       "</div>"
      ],
      "text/plain": [
       "   User  Time    Energy    Critiquing Function\n",
       "0  2732     1  0.194655  Energy Redistribution\n",
       "1  2732     2  0.196230  Energy Redistribution\n",
       "2  2732     3  0.196776  Energy Redistribution\n",
       "3  2732     4  0.195197  Energy Redistribution\n",
       "4  2732     5  0.194054  Energy Redistribution"
      ]
     },
     "execution_count": 11,
     "metadata": {},
     "output_type": "execute_result"
    }
   ],
   "source": [
    "df_redistribute.head()"
   ]
  },
  {
   "cell_type": "code",
   "execution_count": 12,
   "metadata": {},
   "outputs": [],
   "source": [
    "df_combined = df_redistribute.append(df_zero_out)\n",
    "df_combined['Time'] -= 1"
   ]
  },
  {
   "cell_type": "code",
   "execution_count": 14,
   "metadata": {
    "scrolled": true
   },
   "outputs": [
    {
     "data": {
      "image/png": "[encoded data removed]",
      "text/plain": [
       "<Figure size 432x216 with 1 Axes>"
      ]
     },
     "metadata": {
      "needs_background": "light"
     },
     "output_type": "display_data"
    }
   ],
   "source": [
    "pandas_bar_plot(df=df_combined, x='Time', y='Energy', hue='Critiquing Function', x_name='Number of Critiquing Loops', y_name='Average Score of\\n Keyphrase Prediction', folder='Energy', name='energy_critiquing', save=True)"
   ]
  },
  {
   "cell_type": "code",
   "execution_count": null,
   "metadata": {},
   "outputs": [],
   "source": []
  }
 ],
 "metadata": {
  "kernelspec": {
   "display_name": "tf-gpu",
   "language": "python",
   "name": "tf-gpu"
  },
  "language_info": {
   "codemirror_mode": {
    "name": "ipython",
    "version": 3
   },
   "file_extension": ".py",
   "mimetype": "text/x-python",
   "name": "python",
   "nbconvert_exporter": "python",
   "pygments_lexer": "ipython3",
   "version": "3.7.3"
  }
 },
 "nbformat": 4,
 "nbformat_minor": 2
}
