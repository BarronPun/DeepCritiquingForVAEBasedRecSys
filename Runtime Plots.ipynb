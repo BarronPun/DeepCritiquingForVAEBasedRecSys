{
 "cells": [
  {
   "cell_type": "code",
   "execution_count": 1,
   "metadata": {},
   "outputs": [
    {
     "data": {
      "text/plain": [
       "{'figure.facecolor': 'white',\n",
       " 'axes.labelcolor': '.15',\n",
       " 'xtick.direction': 'out',\n",
       " 'ytick.direction': 'out',\n",
       " 'xtick.color': '.15',\n",
       " 'ytick.color': '.15',\n",
       " 'axes.axisbelow': True,\n",
       " 'grid.linestyle': '-',\n",
       " 'text.color': '.15',\n",
       " 'font.family': ['sans-serif'],\n",
       " 'font.sans-serif': ['Arial',\n",
       "  'DejaVu Sans',\n",
       "  'Liberation Sans',\n",
       "  'Bitstream Vera Sans',\n",
       "  'sans-serif'],\n",
       " 'lines.solid_capstyle': 'round',\n",
       " 'patch.edgecolor': 'w',\n",
       " 'patch.force_edgecolor': True,\n",
       " 'image.cmap': 'rocket',\n",
       " 'xtick.top': False,\n",
       " 'ytick.right': False,\n",
       " 'axes.grid': False,\n",
       " 'axes.facecolor': 'white',\n",
       " 'axes.edgecolor': '.15',\n",
       " 'grid.color': '.8',\n",
       " 'axes.spines.left': True,\n",
       " 'axes.spines.bottom': True,\n",
       " 'axes.spines.right': True,\n",
       " 'axes.spines.top': True,\n",
       " 'xtick.bottom': False,\n",
       " 'ytick.left': False}"
      ]
     },
     "execution_count": 1,
     "metadata": {},
     "output_type": "execute_result"
    }
   ],
   "source": [
    "from utils.io import load_yaml\n",
    "\n",
    "import os\n",
    "import pandas as pd\n",
    "\n",
    "import itertools\n",
    "import matplotlib.pyplot as plt\n",
    "import seaborn as sns\n",
    "\n",
    "from ast import literal_eval\n",
    "sns.axes_style(\"white\")"
   ]
  },
  {
   "cell_type": "code",
   "execution_count": 2,
   "metadata": {},
   "outputs": [],
   "source": [
    "def load_runtime_results(folder_path):\n",
    "    csv_files = [os.path.join(folder_path, f) for f in os.listdir(folder_path)\n",
    "                 if os.path.isfile(os.path.join(folder_path, f)) and f.endswith('.csv')]\n",
    "    aggregate_result = pd.DataFrame()\n",
    "    for record in csv_files:\n",
    "        df = pd.read_csv(record)\n",
    "        aggregate_result = aggregate_result.append(df)\n",
    "#         aggregate_result = aggregate_result.append(df.groupby(['model', 'rank', 'beta', 'lambda_l2', 'lambda_keyphrase', 'lambda_latent', 'lambda_rating', 'learning_rate', 'epoch', 'corruption', 'optimizer'], as_index=False)\n",
    "#  .agg({'F-MAP@5':'mean', 'F-MAP@10':'mean','F-MAP@20':'mean'})).sort_values(by=['beta'])\n",
    "    return aggregate_result.groupby('Algorithm', as_index=False).agg({'Train Time':'mean'}).sort_values(by=['Train Time'])"
   ]
  },
  {
   "cell_type": "code",
   "execution_count": 3,
   "metadata": {},
   "outputs": [
    {
     "data": {
      "text/html": [
       "<div>\n",
       "<style scoped>\n",
       "    .dataframe tbody tr th:only-of-type {\n",
       "        vertical-align: middle;\n",
       "    }\n",
       "\n",
       "    .dataframe tbody tr th {\n",
       "        vertical-align: top;\n",
       "    }\n",
       "\n",
       "    .dataframe thead th {\n",
       "        text-align: right;\n",
       "    }\n",
       "</style>\n",
       "<table border=\"1\" class=\"dataframe\">\n",
       "  <thead>\n",
       "    <tr style=\"text-align: right;\">\n",
       "      <th></th>\n",
       "      <th>Algorithm</th>\n",
       "      <th>Train Time</th>\n",
       "    </tr>\n",
       "  </thead>\n",
       "  <tbody>\n",
       "    <tr>\n",
       "      <th>2</th>\n",
       "      <td>VAE-CF</td>\n",
       "      <td>54.458956</td>\n",
       "    </tr>\n",
       "    <tr>\n",
       "      <th>1</th>\n",
       "      <td>E-CDE-VAE</td>\n",
       "      <td>66.796888</td>\n",
       "    </tr>\n",
       "    <tr>\n",
       "      <th>0</th>\n",
       "      <td>CE-VNCF</td>\n",
       "      <td>11752.680832</td>\n",
       "    </tr>\n",
       "  </tbody>\n",
       "</table>\n",
       "</div>"
      ],
      "text/plain": [
       "   Algorithm    Train Time\n",
       "2     VAE-CF     54.458956\n",
       "1  E-CDE-VAE     66.796888\n",
       "0    CE-VNCF  11752.680832"
      ]
     },
     "execution_count": 3,
     "metadata": {},
     "output_type": "execute_result"
    }
   ],
   "source": [
    "beer_runtime = load_runtime_results(\"tables/beer_runtime/\")\n",
    "beer_runtime"
   ]
  },
  {
   "cell_type": "code",
   "execution_count": 4,
   "metadata": {},
   "outputs": [
    {
     "data": {
      "text/html": [
       "<div>\n",
       "<style scoped>\n",
       "    .dataframe tbody tr th:only-of-type {\n",
       "        vertical-align: middle;\n",
       "    }\n",
       "\n",
       "    .dataframe tbody tr th {\n",
       "        vertical-align: top;\n",
       "    }\n",
       "\n",
       "    .dataframe thead th {\n",
       "        text-align: right;\n",
       "    }\n",
       "</style>\n",
       "<table border=\"1\" class=\"dataframe\">\n",
       "  <thead>\n",
       "    <tr style=\"text-align: right;\">\n",
       "      <th></th>\n",
       "      <th>Algorithm</th>\n",
       "      <th>Train Time</th>\n",
       "    </tr>\n",
       "  </thead>\n",
       "  <tbody>\n",
       "    <tr>\n",
       "      <th>2</th>\n",
       "      <td>VAE-CF</td>\n",
       "      <td>59.937207</td>\n",
       "    </tr>\n",
       "    <tr>\n",
       "      <th>1</th>\n",
       "      <td>E-CDE-VAE</td>\n",
       "      <td>125.280197</td>\n",
       "    </tr>\n",
       "    <tr>\n",
       "      <th>0</th>\n",
       "      <td>CE-VNCF</td>\n",
       "      <td>7087.097778</td>\n",
       "    </tr>\n",
       "  </tbody>\n",
       "</table>\n",
       "</div>"
      ],
      "text/plain": [
       "   Algorithm   Train Time\n",
       "2     VAE-CF    59.937207\n",
       "1  E-CDE-VAE   125.280197\n",
       "0    CE-VNCF  7087.097778"
      ]
     },
     "execution_count": 4,
     "metadata": {},
     "output_type": "execute_result"
    }
   ],
   "source": [
    "CDsVinyl_runtime = load_runtime_results(\"tables/CDsVinyl_runtime/\")\n",
    "CDsVinyl_runtime"
   ]
  },
  {
   "cell_type": "code",
   "execution_count": 5,
   "metadata": {},
   "outputs": [],
   "source": [
    "def pandas_bar_plot(df, x, y, hue, x_name, y_name, folder='figures', name='unknown', save=True):\n",
    "    fig, ax = plt.subplots(figsize=(6, 3))\n",
    "    sns.barplot(ax=ax, x=x, y=y, hue=hue, data=df, errwidth=1, edgecolor='black', facecolor=(1, 1, 1, 0)) #, errwidth=0.5\n",
    "\n",
    "    num_category = len(df[x].unique())\n",
    "    hatch = None\n",
    "    hatches = itertools.cycle(['//', '**', '////', '----', 'xxxx', '\\\\\\\\\\\\\\\\', ' ', '\\\\', '...', 'OOO', \"++++++++\"])\n",
    "    for i, bar in enumerate(ax.patches):\n",
    "        if i % num_category == 0:\n",
    "            hatch = next(hatches)\n",
    "        bar.set_hatch(hatch)\n",
    "\n",
    "    plt.xlabel(x_name)\n",
    "    plt.ylabel(y_name)\n",
    "    #plt.xticks(rotation=15)\n",
    "    plt.legend(loc='upper left', ncol=5)\n",
    "    # if 'Precision' not in y:\n",
    "    ax.legend_.remove()\n",
    "    plt.tight_layout()\n",
    "    if save:\n",
    "        fig_path = load_yaml('config/global.yml', key='path')['figs']\n",
    "        plt.savefig(\"{2}/{0}/{1}_bar.pdf\".format(folder, name, fig_path), format=\"pdf\")\n",
    "        plt.savefig(\"{2}/{0}/{1}_bar.png\".format(folder, name, fig_path), format=\"png\")\n",
    "\n",
    "        fig_leg = plt.figure(figsize=(12, 0.7))\n",
    "        ax_leg = fig_leg.add_subplot(111)\n",
    "        ax_leg.legend(*ax.get_legend_handles_labels(), loc='center', ncol=10)\n",
    "        ax_leg.axis('off')\n",
    "        fig_leg.savefig('figs/bar_legend.pdf', format='pdf')\n",
    "\n",
    "    else:\n",
    "        plt.show()\n",
    "    plt.close()"
   ]
  },
  {
   "cell_type": "code",
   "execution_count": 6,
   "metadata": {},
   "outputs": [
    {
     "name": "stderr",
     "output_type": "stream",
     "text": [
      "/home/kai/git/Dual-Encoder/utils/io.py:18: YAMLLoadWarning: calling yaml.load() without Loader=... is deprecated, as the default Loader is unsafe. Please read https://msg.pyyaml.org/load for full details.\n",
      "  return yaml.load(stream)[key]\n"
     ]
    },
    {
     "data": {
      "image/png": "[encoded data removed]",
      "text/plain": [
       "<Figure size 432x216 with 1 Axes>"
      ]
     },
     "metadata": {
      "needs_background": "light"
     },
     "output_type": "display_data"
    }
   ],
   "source": [
    "pandas_bar_plot(df=beer_runtime, x='Train Time', y='Algorithm', hue='Algorithm', x_name='Time(in seconds)', y_name='Algorithm', folder='beer', name='beer_runtime', save=True)"
   ]
  },
  {
   "cell_type": "code",
   "execution_count": 7,
   "metadata": {},
   "outputs": [
    {
     "name": "stderr",
     "output_type": "stream",
     "text": [
      "/home/kai/git/Dual-Encoder/utils/io.py:18: YAMLLoadWarning: calling yaml.load() without Loader=... is deprecated, as the default Loader is unsafe. Please read https://msg.pyyaml.org/load for full details.\n",
      "  return yaml.load(stream)[key]\n"
     ]
    },
    {
     "data": {
      "image/png": "[encoded data removed]",
      "text/plain": [
       "<Figure size 432x216 with 1 Axes>"
      ]
     },
     "metadata": {
      "needs_background": "light"
     },
     "output_type": "display_data"
    }
   ],
   "source": [
    "pandas_bar_plot(df=CDsVinyl_runtime, x='Train Time', y='Algorithm', hue='Algorithm', x_name='Time(in seconds)', y_name='Algorithm', folder='CDsVinyl', name='CDsVinyl_runtime', save=True)"
   ]
  },
  {
   "cell_type": "code",
   "execution_count": null,
   "metadata": {},
   "outputs": [],
   "source": []
  }
 ],
 "metadata": {
  "kernelspec": {
   "display_name": "tf-gpu",
   "language": "python",
   "name": "tf-gpu"
  },
  "language_info": {
   "codemirror_mode": {
    "name": "ipython",
    "version": 3
   },
   "file_extension": ".py",
   "mimetype": "text/x-python",
   "name": "python",
   "nbconvert_exporter": "python",
   "pygments_lexer": "ipython3",
   "version": "3.7.3"
  }
 },
 "nbformat": 4,
 "nbformat_minor": 2
}
